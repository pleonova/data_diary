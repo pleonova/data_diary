{
 "cells": [
  {
   "cell_type": "markdown",
   "metadata": {},
   "source": [
    "# Fitbit Downloader"
   ]
  },
  {
   "cell_type": "markdown",
   "metadata": {},
   "source": [
    "### About Fitbit Data Downloader: \n",
    "\n",
    "File provides a way to download your fitbit data to CSV, including heart rate, sleep, sleeps and weight. Some simple visualizations are used to check numbers. See fitbit data analysis file for more in-depth data visualizations."
   ]
  },
  {
   "cell_type": "markdown",
   "metadata": {},
   "source": [
    "### Setup and Installation Steps\n",
    "\n",
    "Getting the Credentials setup for FitBit integration is a bit annoying, but if you fall these steps, it should work. \n",
    "\n",
    "* Create a developer application at https://dev.fitbit.com/ \n",
    "* Set your callback URL as http://127.0.0.1:8080/\n",
    "* From your Fitbit application, copy your \"OAuth 2.0 Client ID\" and \"Client Secret\" \n",
    "* Install Python Fitbit: `$ pip install fitbit`\n",
    "* Clone or Download https://github.com/orcasgit/python-fitbit\n",
    "* Navigate to python-fitbit directory and install the dependencies with `$ sudo pip install -r requirements/base.txt`\n",
    "* Inside python-fitbit directory run this command `$ python gather_keys_oauth2.py <client-id> <client-secret>`\n",
    "* This should redirect you to fitbit website where you you will signin and authorize your user. \n",
    "* After you will be redirected to your localhost url. Inside the terminal, you will receive a message that includes your token info. Copy all the info. \n",
    "* Copy credentials-sample.json to credentials.json\n",
    "* Inside credentials-sample.json add your info. \n"
   ]
  },
  {
   "cell_type": "markdown",
   "metadata": {},
   "source": [
    "## Acknowledgements and Helpful Resources\n",
    "\n",
    "* [Collect Your Own Fitbit Data with Python](https://towardsdatascience.com/collect-your-own-fitbit-data-with-python-ff145fa10873) and [Code](https://github.com/stephenjhsu/fitbit) by Stephen Hsu\n",
    "* "
   ]
  },
  {
   "cell_type": "markdown",
   "metadata": {},
   "source": [
    "### Libraries and Dependencies"
   ]
  },
  {
   "cell_type": "code",
   "execution_count": 1,
   "metadata": {
    "collapsed": true
   },
   "outputs": [],
   "source": [
    "import fitbit\n",
    "# import gather_keys_oauth2 as Oauth2\n",
    "import numpy as np\n",
    "import pandas as pd \n",
    "import datetime\n",
    "import dateutil.parser\n",
    "import seaborn\n",
    "import time\n",
    "%matplotlib inline"
   ]
  },
  {
   "cell_type": "markdown",
   "metadata": {},
   "source": [
    "### Credentials and Authentification"
   ]
  },
  {
   "cell_type": "code",
   "execution_count": 2,
   "metadata": {
    "collapsed": true
   },
   "outputs": [],
   "source": [
    "import json\n",
    "\n",
    "with open(\"credentials.json\", \"r\") as file:\n",
    "    credentials = json.load(file)\n",
    "    fitbit_cr = credentials['fitbit']\n",
    "    CLIENT_SECRET = fitbit_cr['CLIENT_SECRET']\n",
    "    CLIENT_ID = fitbit_cr['CLIENT_ID']\n",
    "    USER_ID = fitbit_cr['USER_ID']\n",
    "    ACCESS_TOKEN = fitbit_cr['ACCESS_TOKEN']\n",
    "    REFRESH_TOKEN = fitbit_cr['REFRESH_TOKEN']"
   ]
  },
  {
   "cell_type": "code",
   "execution_count": 3,
   "metadata": {
    "collapsed": true
   },
   "outputs": [],
   "source": [
    "#Authorization info\n",
    "auth2_client = fitbit.Fitbit(USER_ID, CLIENT_SECRET, oauth2=True, access_token=ACCESS_TOKEN, refresh_token=REFRESH_TOKEN)"
   ]
  },
  {
   "cell_type": "markdown",
   "metadata": {},
   "source": [
    "### Current Day Today and Yesterday"
   ]
  },
  {
   "cell_type": "code",
   "execution_count": 4,
   "metadata": {},
   "outputs": [
    {
     "data": {
      "text/plain": [
       "'2019-07-21'"
      ]
     },
     "execution_count": 4,
     "metadata": {},
     "output_type": "execute_result"
    }
   ],
   "source": [
    "# Get Today and Yesterday Dates in FitBit Ready Formats\n",
    "yesterday = str((datetime.datetime.now() - datetime.timedelta(days=1)).strftime(\"%Y%m%d\"))\n",
    "yesterday = str((datetime.datetime.now() - datetime.timedelta(days=1)).strftime(\"%Y-%m-%d\"))\n",
    "today = str(datetime.datetime.now().strftime(\"%Y-%m-%d\"))\n",
    "today"
   ]
  },
  {
   "cell_type": "markdown",
   "metadata": {},
   "source": [
    "### Customizable Date Range "
   ]
  },
  {
   "cell_type": "code",
   "execution_count": 14,
   "metadata": {
    "collapsed": true
   },
   "outputs": [],
   "source": [
    "# list of dates to check\n",
    "dates_list = []\n",
    "date1 = '2019-06-01' # Got Fitbit Device 2018-04-17 or since last data update\n",
    "date2 = today\n",
    "start = datetime.datetime.strptime(date1, '%Y-%m-%d')\n",
    "end = datetime.datetime.strptime(date2, '%Y-%m-%d')\n",
    "step = datetime.timedelta(days=1)\n",
    "\n",
    "while start <= end:\n",
    "    dates_list.append(start.date().strftime(\"%Y-%m-%d\"))\n",
    "    start += step"
   ]
  },
  {
   "cell_type": "markdown",
   "metadata": {},
   "source": [
    "# Download Daily Steps Data"
   ]
  },
  {
   "cell_type": "code",
   "execution_count": 41,
   "metadata": {
    "collapsed": true
   },
   "outputs": [],
   "source": [
    "# Get Steps Data in JSON from Last Year\n",
    "steps_ts = auth2_client.time_series('activities/steps', period='1y')\n",
    "\n",
    "# base-date: The range start date, in the format yyyy-MM-dd or today.\n",
    "# end-date: The end date of the range.\n",
    "# date: The end date of the period specified in the format yyyy-MM-dd or today.\n",
    "# period: The range for which data will be returned. Options are 1d, 7d, 30d, 1w, 1m, 3m, 6m, 1y"
   ]
  },
  {
   "cell_type": "code",
   "execution_count": 6,
   "metadata": {},
   "outputs": [
    {
     "data": {
      "text/plain": [
       "{'dateTime': '2019-07-20', 'value': '5770'}"
      ]
     },
     "execution_count": 6,
     "metadata": {},
     "output_type": "execute_result"
    }
   ],
   "source": [
    "steps_ts['activities-steps'][-2]"
   ]
  },
  {
   "cell_type": "code",
   "execution_count": 7,
   "metadata": {},
   "outputs": [
    {
     "data": {
      "text/plain": [
       "(datetime.datetime(2019, 7, 20, 0, 0), 5770)"
      ]
     },
     "execution_count": 7,
     "metadata": {},
     "output_type": "execute_result"
    }
   ],
   "source": [
    "date_steps_list = [(dateutil.parser.parse(date_steps_dict['dateTime']), int(date_steps_dict['value']))\n",
    "              for date_steps_dict in steps_ts['activities-steps']]\n",
    "date_steps_list[-2]"
   ]
  },
  {
   "cell_type": "code",
   "execution_count": 8,
   "metadata": {},
   "outputs": [
    {
     "data": {
      "text/plain": [
       "365"
      ]
     },
     "execution_count": 8,
     "metadata": {},
     "output_type": "execute_result"
    }
   ],
   "source": [
    "len(date_steps_list) # 365 days"
   ]
  },
  {
   "cell_type": "code",
   "execution_count": 9,
   "metadata": {
    "collapsed": true
   },
   "outputs": [],
   "source": [
    "# convert to data frame\n",
    "date_steps = pd.DataFrame(date_steps_list, columns=('Date', 'Steps'))"
   ]
  },
  {
   "cell_type": "code",
   "execution_count": 10,
   "metadata": {},
   "outputs": [
    {
     "data": {
      "text/html": [
       "<div>\n",
       "<style scoped>\n",
       "    .dataframe tbody tr th:only-of-type {\n",
       "        vertical-align: middle;\n",
       "    }\n",
       "\n",
       "    .dataframe tbody tr th {\n",
       "        vertical-align: top;\n",
       "    }\n",
       "\n",
       "    .dataframe thead th {\n",
       "        text-align: right;\n",
       "    }\n",
       "</style>\n",
       "<table border=\"1\" class=\"dataframe\">\n",
       "  <thead>\n",
       "    <tr style=\"text-align: right;\">\n",
       "      <th></th>\n",
       "      <th>Date</th>\n",
       "      <th>Steps</th>\n",
       "    </tr>\n",
       "  </thead>\n",
       "  <tbody>\n",
       "    <tr>\n",
       "      <th>360</th>\n",
       "      <td>2019-07-17</td>\n",
       "      <td>772</td>\n",
       "    </tr>\n",
       "    <tr>\n",
       "      <th>361</th>\n",
       "      <td>2019-07-18</td>\n",
       "      <td>2736</td>\n",
       "    </tr>\n",
       "    <tr>\n",
       "      <th>362</th>\n",
       "      <td>2019-07-19</td>\n",
       "      <td>6168</td>\n",
       "    </tr>\n",
       "    <tr>\n",
       "      <th>363</th>\n",
       "      <td>2019-07-20</td>\n",
       "      <td>5770</td>\n",
       "    </tr>\n",
       "    <tr>\n",
       "      <th>364</th>\n",
       "      <td>2019-07-21</td>\n",
       "      <td>122</td>\n",
       "    </tr>\n",
       "  </tbody>\n",
       "</table>\n",
       "</div>"
      ],
      "text/plain": [
       "          Date  Steps\n",
       "360 2019-07-17    772\n",
       "361 2019-07-18   2736\n",
       "362 2019-07-19   6168\n",
       "363 2019-07-20   5770\n",
       "364 2019-07-21    122"
      ]
     },
     "execution_count": 10,
     "metadata": {},
     "output_type": "execute_result"
    }
   ],
   "source": [
    "date_steps.tail()"
   ]
  },
  {
   "cell_type": "code",
   "execution_count": 11,
   "metadata": {},
   "outputs": [
    {
     "data": {
      "text/plain": [
       "360"
      ]
     },
     "execution_count": 11,
     "metadata": {},
     "output_type": "execute_result"
    }
   ],
   "source": [
    "# days with steps\n",
    "len(date_steps[date_steps.Steps > 0])"
   ]
  },
  {
   "cell_type": "code",
   "execution_count": 12,
   "metadata": {},
   "outputs": [
    {
     "data": {
      "text/plain": [
       "<matplotlib.axes._subplots.AxesSubplot at 0x1a209c53c8>"
      ]
     },
     "execution_count": 12,
     "metadata": {},
     "output_type": "execute_result"
    },
    {
     "data": {
      "image/png": "[encoded data removed]",
      "text/plain": [
       "<Figure size 432x288 with 1 Axes>"
      ]
     },
     "metadata": {
      "needs_background": "light"
     },
     "output_type": "display_data"
    }
   ],
   "source": [
    "# Days with Steps Visualization\n",
    "date_steps[date_steps.Steps > 0].plot(x='Date')"
   ]
  },
  {
   "cell_type": "code",
   "execution_count": 116,
   "metadata": {},
   "outputs": [],
   "source": [
    "# save to csv\n",
    "date_steps.to_csv('data/daily_steps.csv', index=None, encoding='utf-8')"
   ]
  },
  {
   "cell_type": "markdown",
   "metadata": {},
   "source": [
    "------"
   ]
  },
  {
   "cell_type": "markdown",
   "metadata": {},
   "source": [
    "# Weight "
   ]
  },
  {
   "cell_type": "code",
   "execution_count": 117,
   "metadata": {
    "collapsed": true
   },
   "outputs": [],
   "source": [
    "# TODO: https://dev.fitbit.com/build/reference/web-api/body/"
   ]
  },
  {
   "cell_type": "code",
   "execution_count": null,
   "metadata": {
    "collapsed": true
   },
   "outputs": [],
   "source": []
  },
  {
   "cell_type": "markdown",
   "metadata": {},
   "source": [
    "----------"
   ]
  },
  {
   "cell_type": "markdown",
   "metadata": {},
   "source": [
    "# Download Steps Per 15min via Intraday API"
   ]
  },
  {
   "cell_type": "code",
   "execution_count": 118,
   "metadata": {
    "collapsed": true
   },
   "outputs": [],
   "source": [
    "# get all Steps stats for a single date\n",
    "def fitbit_intraday_steps(date):\n",
    "    fitbit_intra_steps = auth2_client.intraday_time_series('activities/steps', base_date=date, detail_level='15min')\n",
    "    time_list = []\n",
    "    val_list = []\n",
    "    for i in fitbit_intra_steps['activities-steps-intraday']['dataset']:\n",
    "        val_list.append(i['value'])\n",
    "        time_list.append(i['time'])\n",
    "    heartdf = pd.DataFrame({'Steps':val_list,'Time':time_list})\n",
    "    # add date column\n",
    "    heartdf['Date'] = date\n",
    "    # create csv\n",
    "    heartdf.to_csv('data/steps/steps'+ \\\n",
    "               date+'.csv', \\\n",
    "               columns=['Date', 'Time','Steps'], header=True, \\\n",
    "               index = False)\n",
    "    print(\"Generated Steps CSV for %s\" % date)"
   ]
  },
  {
   "cell_type": "code",
   "execution_count": 119,
   "metadata": {
    "collapsed": true
   },
   "outputs": [],
   "source": [
    "# get multiple date HR data\n",
    "def fitbit_multidates_steps(datelist):\n",
    "    for i in datelist[:]:\n",
    "        fitbit_intraday_steps(i)\n",
    "        # add a 5 second daily\n",
    "        # time.sleep(5)"
   ]
  },
  {
   "cell_type": "code",
   "execution_count": 120,
   "metadata": {},
   "outputs": [
    {
     "name": "stdout",
     "output_type": "stream",
     "text": [
      "Generated Steps CSV for 2018-05-23\n"
     ]
    }
   ],
   "source": [
    "fitbit_intraday_steps(today)"
   ]
  },
  {
   "cell_type": "code",
   "execution_count": 121,
   "metadata": {},
   "outputs": [
    {
     "name": "stdout",
     "output_type": "stream",
     "text": [
      "Generated Steps CSV for 2018-05-22\n"
     ]
    }
   ],
   "source": [
    "fitbit_intraday_steps(yesterday)"
   ]
  },
  {
   "cell_type": "code",
   "execution_count": 122,
   "metadata": {},
   "outputs": [
    {
     "name": "stdout",
     "output_type": "stream",
     "text": [
      "Generated Steps CSV for 2018-04-17\n",
      "Generated Steps CSV for 2018-04-18\n",
      "Generated Steps CSV for 2018-04-19\n",
      "Generated Steps CSV for 2018-04-20\n",
      "Generated Steps CSV for 2018-04-21\n",
      "Generated Steps CSV for 2018-04-22\n",
      "Generated Steps CSV for 2018-04-23\n",
      "Generated Steps CSV for 2018-04-24\n",
      "Generated Steps CSV for 2018-04-25\n",
      "Generated Steps CSV for 2018-04-26\n",
      "Generated Steps CSV for 2018-04-27\n",
      "Generated Steps CSV for 2018-04-28\n",
      "Generated Steps CSV for 2018-04-29\n",
      "Generated Steps CSV for 2018-04-30\n",
      "Generated Steps CSV for 2018-05-01\n",
      "Generated Steps CSV for 2018-05-02\n",
      "Generated Steps CSV for 2018-05-03\n",
      "Generated Steps CSV for 2018-05-04\n",
      "Generated Steps CSV for 2018-05-05\n",
      "Generated Steps CSV for 2018-05-06\n",
      "Generated Steps CSV for 2018-05-07\n",
      "Generated Steps CSV for 2018-05-08\n",
      "Generated Steps CSV for 2018-05-09\n",
      "Generated Steps CSV for 2018-05-10\n",
      "Generated Steps CSV for 2018-05-11\n",
      "Generated Steps CSV for 2018-05-12\n",
      "Generated Steps CSV for 2018-05-13\n",
      "Generated Steps CSV for 2018-05-14\n",
      "Generated Steps CSV for 2018-05-15\n",
      "Generated Steps CSV for 2018-05-16\n",
      "Generated Steps CSV for 2018-05-17\n",
      "Generated Steps CSV for 2018-05-18\n",
      "Generated Steps CSV for 2018-05-19\n",
      "Generated Steps CSV for 2018-05-20\n",
      "Generated Steps CSV for 2018-05-21\n",
      "Generated Steps CSV for 2018-05-22\n",
      "Generated Steps CSV for 2018-05-23\n"
     ]
    }
   ],
   "source": [
    "fitbit_multidates_steps(dates_list)"
   ]
  },
  {
   "cell_type": "code",
   "execution_count": null,
   "metadata": {
    "collapsed": true
   },
   "outputs": [],
   "source": []
  },
  {
   "cell_type": "markdown",
   "metadata": {},
   "source": [
    "--------"
   ]
  },
  {
   "cell_type": "markdown",
   "metadata": {},
   "source": [
    "# Download Daily Detailed Sleep Log"
   ]
  },
  {
   "cell_type": "code",
   "execution_count": 128,
   "metadata": {
    "collapsed": true
   },
   "outputs": [],
   "source": [
    "sleep_daily = [auth2_client.sleep(date) for date in dates_list]"
   ]
  },
  {
   "cell_type": "code",
   "execution_count": 210,
   "metadata": {},
   "outputs": [
    {
     "data": {
      "text/plain": [
       "{'sleep': [{'awakeCount': 3,\n",
       "   'awakeDuration': 10,\n",
       "   'awakeningsCount': 17,\n",
       "   'dateOfSleep': '2019-07-20',\n",
       "   'duration': 32040000,\n",
       "   'efficiency': 93,\n",
       "   'endTime': '2019-07-20T08:12:30.000',\n",
       "   'isMainSleep': True,\n",
       "   'logId': 23160192238,\n",
       "   'minuteData': [{'dateTime': '23:18:30', 'value': '1'},\n",
       "    {'dateTime': '23:19:30', 'value': '1'},\n",
       "    {'dateTime': '23:20:30', 'value': '1'},\n",
       "    {'dateTime': '23:21:30', 'value': '1'},\n",
       "    {'dateTime': '23:22:30', 'value': '1'},\n",
       "    {'dateTime': '23:23:30', 'value': '1'},\n",
       "    {'dateTime': '23:24:30', 'value': '1'},\n",
       "    {'dateTime': '23:25:30', 'value': '1'},\n",
       "    {'dateTime': '23:26:30', 'value': '1'},\n",
       "    {'dateTime': '23:27:30', 'value': '1'},\n",
       "    {'dateTime': '23:28:30', 'value': '1'},\n",
       "    {'dateTime': '23:29:30', 'value': '2'},\n",
       "    {'dateTime': '23:30:30', 'value': '2'},\n",
       "    {'dateTime': '23:31:30', 'value': '2'},\n",
       "    {'dateTime': '23:32:30', 'value': '3'},\n",
       "    {'dateTime': '23:33:30', 'value': '3'},\n",
       "    {'dateTime': '23:34:30', 'value': '3'},\n",
       "    {'dateTime': '23:35:30', 'value': '1'},\n",
       "    {'dateTime': '23:36:30', 'value': '1'},\n",
       "    {'dateTime': '23:37:30', 'value': '1'},\n",
       "    {'dateTime': '23:38:30', 'value': '1'},\n",
       "    {'dateTime': '23:39:30', 'value': '1'},\n",
       "    {'dateTime': '23:40:30', 'value': '1'},\n",
       "    {'dateTime': '23:41:30', 'value': '1'},\n",
       "    {'dateTime': '23:42:30', 'value': '1'},\n",
       "    {'dateTime': '23:43:30', 'value': '1'},\n",
       "    {'dateTime': '23:44:30', 'value': '1'},\n",
       "    {'dateTime': '23:45:30', 'value': '1'},\n",
       "    {'dateTime': '23:46:30', 'value': '1'},\n",
       "    {'dateTime': '23:47:30', 'value': '1'},\n",
       "    {'dateTime': '23:48:30', 'value': '1'},\n",
       "    {'dateTime': '23:49:30', 'value': '1'},\n",
       "    {'dateTime': '23:50:30', 'value': '1'},\n",
       "    {'dateTime': '23:51:30', 'value': '1'},\n",
       "    {'dateTime': '23:52:30', 'value': '2'},\n",
       "    {'dateTime': '23:53:30', 'value': '1'},\n",
       "    {'dateTime': '23:54:30', 'value': '1'},\n",
       "    {'dateTime': '23:55:30', 'value': '2'},\n",
       "    {'dateTime': '23:56:30', 'value': '1'},\n",
       "    {'dateTime': '23:57:30', 'value': '1'},\n",
       "    {'dateTime': '23:58:30', 'value': '1'},\n",
       "    {'dateTime': '23:59:30', 'value': '1'},\n",
       "    {'dateTime': '00:00:30', 'value': '1'},\n",
       "    {'dateTime': '00:01:30', 'value': '1'},\n",
       "    {'dateTime': '00:02:30', 'value': '1'},\n",
       "    {'dateTime': '00:03:30', 'value': '1'},\n",
       "    {'dateTime': '00:04:30', 'value': '1'},\n",
       "    {'dateTime': '00:05:30', 'value': '1'},\n",
       "    {'dateTime': '00:06:30', 'value': '1'},\n",
       "    {'dateTime': '00:07:30', 'value': '1'},\n",
       "    {'dateTime': '00:08:30', 'value': '1'},\n",
       "    {'dateTime': '00:09:30', 'value': '1'},\n",
       "    {'dateTime': '00:10:30', 'value': '1'},\n",
       "    {'dateTime': '00:11:30', 'value': '1'},\n",
       "    {'dateTime': '00:12:30', 'value': '1'},\n",
       "    {'dateTime': '00:13:30', 'value': '1'},\n",
       "    {'dateTime': '00:14:30', 'value': '1'},\n",
       "    {'dateTime': '00:15:30', 'value': '1'},\n",
       "    {'dateTime': '00:16:30', 'value': '1'},\n",
       "    {'dateTime': '00:17:30', 'value': '1'},\n",
       "    {'dateTime': '00:18:30', 'value': '1'},\n",
       "    {'dateTime': '00:19:30', 'value': '1'},\n",
       "    {'dateTime': '00:20:30', 'value': '1'},\n",
       "    {'dateTime': '00:21:30', 'value': '1'},\n",
       "    {'dateTime': '00:22:30', 'value': '1'},\n",
       "    {'dateTime': '00:23:30', 'value': '1'},\n",
       "    {'dateTime': '00:24:30', 'value': '1'},\n",
       "    {'dateTime': '00:25:30', 'value': '1'},\n",
       "    {'dateTime': '00:26:30', 'value': '1'},\n",
       "    {'dateTime': '00:27:30', 'value': '1'},\n",
       "    {'dateTime': '00:28:30', 'value': '1'},\n",
       "    {'dateTime': '00:29:30', 'value': '1'},\n",
       "    {'dateTime': '00:30:30', 'value': '1'},\n",
       "    {'dateTime': '00:31:30', 'value': '1'},\n",
       "    {'dateTime': '00:32:30', 'value': '1'},\n",
       "    {'dateTime': '00:33:30', 'value': '1'},\n",
       "    {'dateTime': '00:34:30', 'value': '1'},\n",
       "    {'dateTime': '00:35:30', 'value': '1'},\n",
       "    {'dateTime': '00:36:30', 'value': '1'},\n",
       "    {'dateTime': '00:37:30', 'value': '1'},\n",
       "    {'dateTime': '00:38:30', 'value': '1'},\n",
       "    {'dateTime': '00:39:30', 'value': '1'},\n",
       "    {'dateTime': '00:40:30', 'value': '1'},\n",
       "    {'dateTime': '00:41:30', 'value': '1'},\n",
       "    {'dateTime': '00:42:30', 'value': '1'},\n",
       "    {'dateTime': '00:43:30', 'value': '1'},\n",
       "    {'dateTime': '00:44:30', 'value': '1'},\n",
       "    {'dateTime': '00:45:30', 'value': '1'},\n",
       "    {'dateTime': '00:46:30', 'value': '1'},\n",
       "    {'dateTime': '00:47:30', 'value': '1'},\n",
       "    {'dateTime': '00:48:30', 'value': '1'},\n",
       "    {'dateTime': '00:49:30', 'value': '1'},\n",
       "    {'dateTime': '00:50:30', 'value': '1'},\n",
       "    {'dateTime': '00:51:30', 'value': '1'},\n",
       "    {'dateTime': '00:52:30', 'value': '1'},\n",
       "    {'dateTime': '00:53:30', 'value': '1'},\n",
       "    {'dateTime': '00:54:30', 'value': '1'},\n",
       "    {'dateTime': '00:55:30', 'value': '1'},\n",
       "    {'dateTime': '00:56:30', 'value': '1'},\n",
       "    {'dateTime': '00:57:30', 'value': '1'},\n",
       "    {'dateTime': '00:58:30', 'value': '1'},\n",
       "    {'dateTime': '00:59:30', 'value': '2'},\n",
       "    {'dateTime': '01:00:30', 'value': '2'},\n",
       "    {'dateTime': '01:01:30', 'value': '2'},\n",
       "    {'dateTime': '01:02:30', 'value': '2'},\n",
       "    {'dateTime': '01:03:30', 'value': '3'},\n",
       "    {'dateTime': '01:04:30', 'value': '3'},\n",
       "    {'dateTime': '01:05:30', 'value': '3'},\n",
       "    {'dateTime': '01:06:30', 'value': '1'},\n",
       "    {'dateTime': '01:07:30', 'value': '1'},\n",
       "    {'dateTime': '01:08:30', 'value': '1'},\n",
       "    {'dateTime': '01:09:30', 'value': '1'},\n",
       "    {'dateTime': '01:10:30', 'value': '1'},\n",
       "    {'dateTime': '01:11:30', 'value': '1'},\n",
       "    {'dateTime': '01:12:30', 'value': '1'},\n",
       "    {'dateTime': '01:13:30', 'value': '1'},\n",
       "    {'dateTime': '01:14:30', 'value': '1'},\n",
       "    {'dateTime': '01:15:30', 'value': '1'},\n",
       "    {'dateTime': '01:16:30', 'value': '1'},\n",
       "    {'dateTime': '01:17:30', 'value': '2'},\n",
       "    {'dateTime': '01:18:30', 'value': '1'},\n",
       "    {'dateTime': '01:19:30', 'value': '1'},\n",
       "    {'dateTime': '01:20:30', 'value': '1'},\n",
       "    {'dateTime': '01:21:30', 'value': '1'},\n",
       "    {'dateTime': '01:22:30', 'value': '1'},\n",
       "    {'dateTime': '01:23:30', 'value': '1'},\n",
       "    {'dateTime': '01:24:30', 'value': '1'},\n",
       "    {'dateTime': '01:25:30', 'value': '1'},\n",
       "    {'dateTime': '01:26:30', 'value': '1'},\n",
       "    {'dateTime': '01:27:30', 'value': '1'},\n",
       "    {'dateTime': '01:28:30', 'value': '1'},\n",
       "    {'dateTime': '01:29:30', 'value': '1'},\n",
       "    {'dateTime': '01:30:30', 'value': '1'},\n",
       "    {'dateTime': '01:31:30', 'value': '1'},\n",
       "    {'dateTime': '01:32:30', 'value': '1'},\n",
       "    {'dateTime': '01:33:30', 'value': '1'},\n",
       "    {'dateTime': '01:34:30', 'value': '1'},\n",
       "    {'dateTime': '01:35:30', 'value': '1'},\n",
       "    {'dateTime': '01:36:30', 'value': '1'},\n",
       "    {'dateTime': '01:37:30', 'value': '2'},\n",
       "    {'dateTime': '01:38:30', 'value': '1'},\n",
       "    {'dateTime': '01:39:30', 'value': '1'},\n",
       "    {'dateTime': '01:40:30', 'value': '1'},\n",
       "    {'dateTime': '01:41:30', 'value': '1'},\n",
       "    {'dateTime': '01:42:30', 'value': '1'},\n",
       "    {'dateTime': '01:43:30', 'value': '1'},\n",
       "    {'dateTime': '01:44:30', 'value': '1'},\n",
       "    {'dateTime': '01:45:30', 'value': '1'},\n",
       "    {'dateTime': '01:46:30', 'value': '1'},\n",
       "    {'dateTime': '01:47:30', 'value': '1'},\n",
       "    {'dateTime': '01:48:30', 'value': '1'},\n",
       "    {'dateTime': '01:49:30', 'value': '1'},\n",
       "    {'dateTime': '01:50:30', 'value': '1'},\n",
       "    {'dateTime': '01:51:30', 'value': '1'},\n",
       "    {'dateTime': '01:52:30', 'value': '1'},\n",
       "    {'dateTime': '01:53:30', 'value': '1'},\n",
       "    {'dateTime': '01:54:30', 'value': '1'},\n",
       "    {'dateTime': '01:55:30', 'value': '1'},\n",
       "    {'dateTime': '01:56:30', 'value': '1'},\n",
       "    {'dateTime': '01:57:30', 'value': '1'},\n",
       "    {'dateTime': '01:58:30', 'value': '1'},\n",
       "    {'dateTime': '01:59:30', 'value': '1'},\n",
       "    {'dateTime': '02:00:30', 'value': '1'},\n",
       "    {'dateTime': '02:01:30', 'value': '1'},\n",
       "    {'dateTime': '02:02:30', 'value': '1'},\n",
       "    {'dateTime': '02:03:30', 'value': '1'},\n",
       "    {'dateTime': '02:04:30', 'value': '1'},\n",
       "    {'dateTime': '02:05:30', 'value': '1'},\n",
       "    {'dateTime': '02:06:30', 'value': '1'},\n",
       "    {'dateTime': '02:07:30', 'value': '1'},\n",
       "    {'dateTime': '02:08:30', 'value': '1'},\n",
       "    {'dateTime': '02:09:30', 'value': '1'},\n",
       "    {'dateTime': '02:10:30', 'value': '1'},\n",
       "    {'dateTime': '02:11:30', 'value': '1'},\n",
       "    {'dateTime': '02:12:30', 'value': '1'},\n",
       "    {'dateTime': '02:13:30', 'value': '1'},\n",
       "    {'dateTime': '02:14:30', 'value': '1'},\n",
       "    {'dateTime': '02:15:30', 'value': '1'},\n",
       "    {'dateTime': '02:16:30', 'value': '1'},\n",
       "    {'dateTime': '02:17:30', 'value': '1'},\n",
       "    {'dateTime': '02:18:30', 'value': '1'},\n",
       "    {'dateTime': '02:19:30', 'value': '1'},\n",
       "    {'dateTime': '02:20:30', 'value': '1'},\n",
       "    {'dateTime': '02:21:30', 'value': '1'},\n",
       "    {'dateTime': '02:22:30', 'value': '1'},\n",
       "    {'dateTime': '02:23:30', 'value': '1'},\n",
       "    {'dateTime': '02:24:30', 'value': '1'},\n",
       "    {'dateTime': '02:25:30', 'value': '1'},\n",
       "    {'dateTime': '02:26:30', 'value': '1'},\n",
       "    {'dateTime': '02:27:30', 'value': '1'},\n",
       "    {'dateTime': '02:28:30', 'value': '1'},\n",
       "    {'dateTime': '02:29:30', 'value': '1'},\n",
       "    {'dateTime': '02:30:30', 'value': '1'},\n",
       "    {'dateTime': '02:31:30', 'value': '1'},\n",
       "    {'dateTime': '02:32:30', 'value': '1'},\n",
       "    {'dateTime': '02:33:30', 'value': '1'},\n",
       "    {'dateTime': '02:34:30', 'value': '1'},\n",
       "    {'dateTime': '02:35:30', 'value': '1'},\n",
       "    {'dateTime': '02:36:30', 'value': '1'},\n",
       "    {'dateTime': '02:37:30', 'value': '1'},\n",
       "    {'dateTime': '02:38:30', 'value': '1'},\n",
       "    {'dateTime': '02:39:30', 'value': '1'},\n",
       "    {'dateTime': '02:40:30', 'value': '1'},\n",
       "    {'dateTime': '02:41:30', 'value': '1'},\n",
       "    {'dateTime': '02:42:30', 'value': '1'},\n",
       "    {'dateTime': '02:43:30', 'value': '1'},\n",
       "    {'dateTime': '02:44:30', 'value': '1'},\n",
       "    {'dateTime': '02:45:30', 'value': '1'},\n",
       "    {'dateTime': '02:46:30', 'value': '1'},\n",
       "    {'dateTime': '02:47:30', 'value': '1'},\n",
       "    {'dateTime': '02:48:30', 'value': '1'},\n",
       "    {'dateTime': '02:49:30', 'value': '1'},\n",
       "    {'dateTime': '02:50:30', 'value': '1'},\n",
       "    {'dateTime': '02:51:30', 'value': '1'},\n",
       "    {'dateTime': '02:52:30', 'value': '1'},\n",
       "    {'dateTime': '02:53:30', 'value': '1'},\n",
       "    {'dateTime': '02:54:30', 'value': '1'},\n",
       "    {'dateTime': '02:55:30', 'value': '1'},\n",
       "    {'dateTime': '02:56:30', 'value': '1'},\n",
       "    {'dateTime': '02:57:30', 'value': '1'},\n",
       "    {'dateTime': '02:58:30', 'value': '1'},\n",
       "    {'dateTime': '02:59:30', 'value': '1'},\n",
       "    {'dateTime': '03:00:30', 'value': '1'},\n",
       "    {'dateTime': '03:01:30', 'value': '1'},\n",
       "    {'dateTime': '03:02:30', 'value': '1'},\n",
       "    {'dateTime': '03:03:30', 'value': '1'},\n",
       "    {'dateTime': '03:04:30', 'value': '1'},\n",
       "    {'dateTime': '03:05:30', 'value': '1'},\n",
       "    {'dateTime': '03:06:30', 'value': '1'},\n",
       "    {'dateTime': '03:07:30', 'value': '1'},\n",
       "    {'dateTime': '03:08:30', 'value': '1'},\n",
       "    {'dateTime': '03:09:30', 'value': '1'},\n",
       "    {'dateTime': '03:10:30', 'value': '1'},\n",
       "    {'dateTime': '03:11:30', 'value': '1'},\n",
       "    {'dateTime': '03:12:30', 'value': '1'},\n",
       "    {'dateTime': '03:13:30', 'value': '1'},\n",
       "    {'dateTime': '03:14:30', 'value': '1'},\n",
       "    {'dateTime': '03:15:30', 'value': '1'},\n",
       "    {'dateTime': '03:16:30', 'value': '1'},\n",
       "    {'dateTime': '03:17:30', 'value': '1'},\n",
       "    {'dateTime': '03:18:30', 'value': '1'},\n",
       "    {'dateTime': '03:19:30', 'value': '1'},\n",
       "    {'dateTime': '03:20:30', 'value': '1'},\n",
       "    {'dateTime': '03:21:30', 'value': '1'},\n",
       "    {'dateTime': '03:22:30', 'value': '1'},\n",
       "    {'dateTime': '03:23:30', 'value': '1'},\n",
       "    {'dateTime': '03:24:30', 'value': '1'},\n",
       "    {'dateTime': '03:25:30', 'value': '1'},\n",
       "    {'dateTime': '03:26:30', 'value': '1'},\n",
       "    {'dateTime': '03:27:30', 'value': '1'},\n",
       "    {'dateTime': '03:28:30', 'value': '1'},\n",
       "    {'dateTime': '03:29:30', 'value': '1'},\n",
       "    {'dateTime': '03:30:30', 'value': '1'},\n",
       "    {'dateTime': '03:31:30', 'value': '1'},\n",
       "    {'dateTime': '03:32:30', 'value': '1'},\n",
       "    {'dateTime': '03:33:30', 'value': '1'},\n",
       "    {'dateTime': '03:34:30', 'value': '1'},\n",
       "    {'dateTime': '03:35:30', 'value': '1'},\n",
       "    {'dateTime': '03:36:30', 'value': '1'},\n",
       "    {'dateTime': '03:37:30', 'value': '1'},\n",
       "    {'dateTime': '03:38:30', 'value': '1'},\n",
       "    {'dateTime': '03:39:30', 'value': '1'},\n",
       "    {'dateTime': '03:40:30', 'value': '1'},\n",
       "    {'dateTime': '03:41:30', 'value': '1'},\n",
       "    {'dateTime': '03:42:30', 'value': '1'},\n",
       "    {'dateTime': '03:43:30', 'value': '1'},\n",
       "    {'dateTime': '03:44:30', 'value': '1'},\n",
       "    {'dateTime': '03:45:30', 'value': '1'},\n",
       "    {'dateTime': '03:46:30', 'value': '1'},\n",
       "    {'dateTime': '03:47:30', 'value': '1'},\n",
       "    {'dateTime': '03:48:30', 'value': '1'},\n",
       "    {'dateTime': '03:49:30', 'value': '1'},\n",
       "    {'dateTime': '03:50:30', 'value': '1'},\n",
       "    {'dateTime': '03:51:30', 'value': '1'},\n",
       "    {'dateTime': '03:52:30', 'value': '1'},\n",
       "    {'dateTime': '03:53:30', 'value': '1'},\n",
       "    {'dateTime': '03:54:30', 'value': '1'},\n",
       "    {'dateTime': '03:55:30', 'value': '1'},\n",
       "    {'dateTime': '03:56:30', 'value': '1'},\n",
       "    {'dateTime': '03:57:30', 'value': '1'},\n",
       "    {'dateTime': '03:58:30', 'value': '1'},\n",
       "    {'dateTime': '03:59:30', 'value': '1'},\n",
       "    {'dateTime': '04:00:30', 'value': '1'},\n",
       "    {'dateTime': '04:01:30', 'value': '1'},\n",
       "    {'dateTime': '04:02:30', 'value': '1'},\n",
       "    {'dateTime': '04:03:30', 'value': '1'},\n",
       "    {'dateTime': '04:04:30', 'value': '1'},\n",
       "    {'dateTime': '04:05:30', 'value': '1'},\n",
       "    {'dateTime': '04:06:30', 'value': '1'},\n",
       "    {'dateTime': '04:07:30', 'value': '1'},\n",
       "    {'dateTime': '04:08:30', 'value': '1'},\n",
       "    {'dateTime': '04:09:30', 'value': '1'},\n",
       "    {'dateTime': '04:10:30', 'value': '1'},\n",
       "    {'dateTime': '04:11:30', 'value': '1'},\n",
       "    {'dateTime': '04:12:30', 'value': '1'},\n",
       "    {'dateTime': '04:13:30', 'value': '1'},\n",
       "    {'dateTime': '04:14:30', 'value': '1'},\n",
       "    {'dateTime': '04:15:30', 'value': '1'},\n",
       "    {'dateTime': '04:16:30', 'value': '1'},\n",
       "    {'dateTime': '04:17:30', 'value': '1'},\n",
       "    {'dateTime': '04:18:30', 'value': '1'},\n",
       "    {'dateTime': '04:19:30', 'value': '1'},\n",
       "    {'dateTime': '04:20:30', 'value': '2'},\n",
       "    {'dateTime': '04:21:30', 'value': '2'},\n",
       "    {'dateTime': '04:22:30', 'value': '1'},\n",
       "    {'dateTime': '04:23:30', 'value': '1'},\n",
       "    {'dateTime': '04:24:30', 'value': '1'},\n",
       "    {'dateTime': '04:25:30', 'value': '1'},\n",
       "    {'dateTime': '04:26:30', 'value': '1'},\n",
       "    {'dateTime': '04:27:30', 'value': '1'},\n",
       "    {'dateTime': '04:28:30', 'value': '1'},\n",
       "    {'dateTime': '04:29:30', 'value': '1'},\n",
       "    {'dateTime': '04:30:30', 'value': '1'},\n",
       "    {'dateTime': '04:31:30', 'value': '1'},\n",
       "    {'dateTime': '04:32:30', 'value': '1'},\n",
       "    {'dateTime': '04:33:30', 'value': '1'},\n",
       "    {'dateTime': '04:34:30', 'value': '1'},\n",
       "    {'dateTime': '04:35:30', 'value': '1'},\n",
       "    {'dateTime': '04:36:30', 'value': '1'},\n",
       "    {'dateTime': '04:37:30', 'value': '1'},\n",
       "    {'dateTime': '04:38:30', 'value': '1'},\n",
       "    {'dateTime': '04:39:30', 'value': '1'},\n",
       "    {'dateTime': '04:40:30', 'value': '1'},\n",
       "    {'dateTime': '04:41:30', 'value': '1'},\n",
       "    {'dateTime': '04:42:30', 'value': '1'},\n",
       "    {'dateTime': '04:43:30', 'value': '1'},\n",
       "    {'dateTime': '04:44:30', 'value': '1'},\n",
       "    {'dateTime': '04:45:30', 'value': '1'},\n",
       "    {'dateTime': '04:46:30', 'value': '1'},\n",
       "    {'dateTime': '04:47:30', 'value': '1'},\n",
       "    {'dateTime': '04:48:30', 'value': '1'},\n",
       "    {'dateTime': '04:49:30', 'value': '1'},\n",
       "    {'dateTime': '04:50:30', 'value': '1'},\n",
       "    {'dateTime': '04:51:30', 'value': '1'},\n",
       "    {'dateTime': '04:52:30', 'value': '1'},\n",
       "    {'dateTime': '04:53:30', 'value': '1'},\n",
       "    {'dateTime': '04:54:30', 'value': '1'},\n",
       "    {'dateTime': '04:55:30', 'value': '1'},\n",
       "    {'dateTime': '04:56:30', 'value': '1'},\n",
       "    {'dateTime': '04:57:30', 'value': '1'},\n",
       "    {'dateTime': '04:58:30', 'value': '1'},\n",
       "    {'dateTime': '04:59:30', 'value': '1'},\n",
       "    {'dateTime': '05:00:30', 'value': '1'},\n",
       "    {'dateTime': '05:01:30', 'value': '1'},\n",
       "    {'dateTime': '05:02:30', 'value': '1'},\n",
       "    {'dateTime': '05:03:30', 'value': '1'},\n",
       "    {'dateTime': '05:04:30', 'value': '1'},\n",
       "    {'dateTime': '05:05:30', 'value': '1'},\n",
       "    {'dateTime': '05:06:30', 'value': '1'},\n",
       "    {'dateTime': '05:07:30', 'value': '1'},\n",
       "    {'dateTime': '05:08:30', 'value': '1'},\n",
       "    {'dateTime': '05:09:30', 'value': '1'},\n",
       "    {'dateTime': '05:10:30', 'value': '1'},\n",
       "    {'dateTime': '05:11:30', 'value': '1'},\n",
       "    {'dateTime': '05:12:30', 'value': '1'},\n",
       "    {'dateTime': '05:13:30', 'value': '1'},\n",
       "    {'dateTime': '05:14:30', 'value': '1'},\n",
       "    {'dateTime': '05:15:30', 'value': '1'},\n",
       "    {'dateTime': '05:16:30', 'value': '1'},\n",
       "    {'dateTime': '05:17:30', 'value': '1'},\n",
       "    {'dateTime': '05:18:30', 'value': '1'},\n",
       "    {'dateTime': '05:19:30', 'value': '1'},\n",
       "    {'dateTime': '05:20:30', 'value': '1'},\n",
       "    {'dateTime': '05:21:30', 'value': '1'},\n",
       "    {'dateTime': '05:22:30', 'value': '1'},\n",
       "    {'dateTime': '05:23:30', 'value': '1'},\n",
       "    {'dateTime': '05:24:30', 'value': '1'},\n",
       "    {'dateTime': '05:25:30', 'value': '1'},\n",
       "    {'dateTime': '05:26:30', 'value': '1'},\n",
       "    {'dateTime': '05:27:30', 'value': '1'},\n",
       "    {'dateTime': '05:28:30', 'value': '1'},\n",
       "    {'dateTime': '05:29:30', 'value': '1'},\n",
       "    {'dateTime': '05:30:30', 'value': '1'},\n",
       "    {'dateTime': '05:31:30', 'value': '1'},\n",
       "    {'dateTime': '05:32:30', 'value': '1'},\n",
       "    {'dateTime': '05:33:30', 'value': '1'},\n",
       "    {'dateTime': '05:34:30', 'value': '1'},\n",
       "    {'dateTime': '05:35:30', 'value': '1'},\n",
       "    {'dateTime': '05:36:30', 'value': '1'},\n",
       "    {'dateTime': '05:37:30', 'value': '1'},\n",
       "    {'dateTime': '05:38:30', 'value': '1'},\n",
       "    {'dateTime': '05:39:30', 'value': '1'},\n",
       "    {'dateTime': '05:40:30', 'value': '1'},\n",
       "    {'dateTime': '05:41:30', 'value': '1'},\n",
       "    {'dateTime': '05:42:30', 'value': '1'},\n",
       "    {'dateTime': '05:43:30', 'value': '1'},\n",
       "    {'dateTime': '05:44:30', 'value': '1'},\n",
       "    {'dateTime': '05:45:30', 'value': '1'},\n",
       "    {'dateTime': '05:46:30', 'value': '1'},\n",
       "    {'dateTime': '05:47:30', 'value': '1'},\n",
       "    {'dateTime': '05:48:30', 'value': '1'},\n",
       "    {'dateTime': '05:49:30', 'value': '1'},\n",
       "    {'dateTime': '05:50:30', 'value': '1'},\n",
       "    {'dateTime': '05:51:30', 'value': '1'},\n",
       "    {'dateTime': '05:52:30', 'value': '1'},\n",
       "    {'dateTime': '05:53:30', 'value': '1'},\n",
       "    {'dateTime': '05:54:30', 'value': '1'},\n",
       "    {'dateTime': '05:55:30', 'value': '1'},\n",
       "    {'dateTime': '05:56:30', 'value': '1'},\n",
       "    {'dateTime': '05:57:30', 'value': '1'},\n",
       "    {'dateTime': '05:58:30', 'value': '1'},\n",
       "    {'dateTime': '05:59:30', 'value': '1'},\n",
       "    {'dateTime': '06:00:30', 'value': '1'},\n",
       "    {'dateTime': '06:01:30', 'value': '1'},\n",
       "    {'dateTime': '06:02:30', 'value': '1'},\n",
       "    {'dateTime': '06:03:30', 'value': '1'},\n",
       "    {'dateTime': '06:04:30', 'value': '1'},\n",
       "    {'dateTime': '06:05:30', 'value': '1'},\n",
       "    {'dateTime': '06:06:30', 'value': '1'},\n",
       "    {'dateTime': '06:07:30', 'value': '1'},\n",
       "    {'dateTime': '06:08:30', 'value': '1'},\n",
       "    {'dateTime': '06:09:30', 'value': '1'},\n",
       "    {'dateTime': '06:10:30', 'value': '1'},\n",
       "    {'dateTime': '06:11:30', 'value': '1'},\n",
       "    {'dateTime': '06:12:30', 'value': '1'},\n",
       "    {'dateTime': '06:13:30', 'value': '1'},\n",
       "    {'dateTime': '06:14:30', 'value': '1'},\n",
       "    {'dateTime': '06:15:30', 'value': '1'},\n",
       "    {'dateTime': '06:16:30', 'value': '2'},\n",
       "    {'dateTime': '06:17:30', 'value': '1'},\n",
       "    {'dateTime': '06:18:30', 'value': '1'},\n",
       "    {'dateTime': '06:19:30', 'value': '1'},\n",
       "    {'dateTime': '06:20:30', 'value': '1'},\n",
       "    {'dateTime': '06:21:30', 'value': '1'},\n",
       "    {'dateTime': '06:22:30', 'value': '1'},\n",
       "    {'dateTime': '06:23:30', 'value': '1'},\n",
       "    {'dateTime': '06:24:30', 'value': '1'},\n",
       "    {'dateTime': '06:25:30', 'value': '1'},\n",
       "    {'dateTime': '06:26:30', 'value': '1'},\n",
       "    {'dateTime': '06:27:30', 'value': '1'},\n",
       "    {'dateTime': '06:28:30', 'value': '1'},\n",
       "    {'dateTime': '06:29:30', 'value': '2'},\n",
       "    {'dateTime': '06:30:30', 'value': '2'},\n",
       "    {'dateTime': '06:31:30', 'value': '1'},\n",
       "    {'dateTime': '06:32:30', 'value': '1'},\n",
       "    {'dateTime': '06:33:30', 'value': '1'},\n",
       "    {'dateTime': '06:34:30', 'value': '1'},\n",
       "    {'dateTime': '06:35:30', 'value': '1'},\n",
       "    {'dateTime': '06:36:30', 'value': '1'},\n",
       "    {'dateTime': '06:37:30', 'value': '1'},\n",
       "    {'dateTime': '06:38:30', 'value': '1'},\n",
       "    {'dateTime': '06:39:30', 'value': '1'},\n",
       "    {'dateTime': '06:40:30', 'value': '1'},\n",
       "    {'dateTime': '06:41:30', 'value': '1'},\n",
       "    {'dateTime': '06:42:30', 'value': '1'},\n",
       "    {'dateTime': '06:43:30', 'value': '1'},\n",
       "    {'dateTime': '06:44:30', 'value': '1'},\n",
       "    {'dateTime': '06:45:30', 'value': '1'},\n",
       "    {'dateTime': '06:46:30', 'value': '1'},\n",
       "    {'dateTime': '06:47:30', 'value': '1'},\n",
       "    {'dateTime': '06:48:30', 'value': '1'},\n",
       "    {'dateTime': '06:49:30', 'value': '1'},\n",
       "    {'dateTime': '06:50:30', 'value': '1'},\n",
       "    {'dateTime': '06:51:30', 'value': '1'},\n",
       "    {'dateTime': '06:52:30', 'value': '1'},\n",
       "    {'dateTime': '06:53:30', 'value': '1'},\n",
       "    {'dateTime': '06:54:30', 'value': '1'},\n",
       "    {'dateTime': '06:55:30', 'value': '1'},\n",
       "    {'dateTime': '06:56:30', 'value': '1'},\n",
       "    {'dateTime': '06:57:30', 'value': '1'},\n",
       "    {'dateTime': '06:58:30', 'value': '1'},\n",
       "    {'dateTime': '06:59:30', 'value': '1'},\n",
       "    {'dateTime': '07:00:30', 'value': '1'},\n",
       "    {'dateTime': '07:01:30', 'value': '1'},\n",
       "    {'dateTime': '07:02:30', 'value': '1'},\n",
       "    {'dateTime': '07:03:30', 'value': '1'},\n",
       "    {'dateTime': '07:04:30', 'value': '1'},\n",
       "    {'dateTime': '07:05:30', 'value': '1'},\n",
       "    {'dateTime': '07:06:30', 'value': '1'},\n",
       "    {'dateTime': '07:07:30', 'value': '1'},\n",
       "    {'dateTime': '07:08:30', 'value': '1'},\n",
       "    {'dateTime': '07:09:30', 'value': '1'},\n",
       "    {'dateTime': '07:10:30', 'value': '1'},\n",
       "    {'dateTime': '07:11:30', 'value': '1'},\n",
       "    {'dateTime': '07:12:30', 'value': '1'},\n",
       "    {'dateTime': '07:13:30', 'value': '1'},\n",
       "    {'dateTime': '07:14:30', 'value': '1'},\n",
       "    {'dateTime': '07:15:30', 'value': '1'},\n",
       "    {'dateTime': '07:16:30', 'value': '1'},\n",
       "    {'dateTime': '07:17:30', 'value': '1'},\n",
       "    {'dateTime': '07:18:30', 'value': '1'},\n",
       "    {'dateTime': '07:19:30', 'value': '1'},\n",
       "    {'dateTime': '07:20:30', 'value': '1'},\n",
       "    {'dateTime': '07:21:30', 'value': '1'},\n",
       "    {'dateTime': '07:22:30', 'value': '1'},\n",
       "    {'dateTime': '07:23:30', 'value': '1'},\n",
       "    {'dateTime': '07:24:30', 'value': '1'},\n",
       "    {'dateTime': '07:25:30', 'value': '1'},\n",
       "    {'dateTime': '07:26:30', 'value': '1'},\n",
       "    {'dateTime': '07:27:30', 'value': '1'},\n",
       "    {'dateTime': '07:28:30', 'value': '1'},\n",
       "    {'dateTime': '07:29:30', 'value': '1'},\n",
       "    {'dateTime': '07:30:30', 'value': '1'},\n",
       "    {'dateTime': '07:31:30', 'value': '1'},\n",
       "    {'dateTime': '07:32:30', 'value': '1'},\n",
       "    {'dateTime': '07:33:30', 'value': '1'},\n",
       "    {'dateTime': '07:34:30', 'value': '1'},\n",
       "    {'dateTime': '07:35:30', 'value': '1'},\n",
       "    {'dateTime': '07:36:30', 'value': '1'},\n",
       "    {'dateTime': '07:37:30', 'value': '1'},\n",
       "    {'dateTime': '07:38:30', 'value': '1'},\n",
       "    {'dateTime': '07:39:30', 'value': '1'},\n",
       "    {'dateTime': '07:40:30', 'value': '2'},\n",
       "    {'dateTime': '07:41:30', 'value': '2'},\n",
       "    {'dateTime': '07:42:30', 'value': '2'},\n",
       "    {'dateTime': '07:43:30', 'value': '3'},\n",
       "    {'dateTime': '07:44:30', 'value': '3'},\n",
       "    {'dateTime': '07:45:30', 'value': '3'},\n",
       "    {'dateTime': '07:46:30', 'value': '3'},\n",
       "    {'dateTime': '07:47:30', 'value': '2'},\n",
       "    {'dateTime': '07:48:30', 'value': '1'},\n",
       "    {'dateTime': '07:49:30', 'value': '1'},\n",
       "    {'dateTime': '07:50:30', 'value': '1'},\n",
       "    {'dateTime': '07:51:30', 'value': '1'},\n",
       "    {'dateTime': '07:52:30', 'value': '1'},\n",
       "    {'dateTime': '07:53:30', 'value': '1'},\n",
       "    {'dateTime': '07:54:30', 'value': '1'},\n",
       "    {'dateTime': '07:55:30', 'value': '1'},\n",
       "    {'dateTime': '07:56:30', 'value': '1'},\n",
       "    {'dateTime': '07:57:30', 'value': '1'},\n",
       "    {'dateTime': '07:58:30', 'value': '1'},\n",
       "    {'dateTime': '07:59:30', 'value': '1'},\n",
       "    {'dateTime': '08:00:30', 'value': '2'},\n",
       "    {'dateTime': '08:01:30', 'value': '1'},\n",
       "    {'dateTime': '08:02:30', 'value': '1'},\n",
       "    {'dateTime': '08:03:30', 'value': '2'},\n",
       "    {'dateTime': '08:04:30', 'value': '1'},\n",
       "    {'dateTime': '08:05:30', 'value': '2'},\n",
       "    {'dateTime': '08:06:30', 'value': '2'},\n",
       "    {'dateTime': '08:07:30', 'value': '2'},\n",
       "    {'dateTime': '08:08:30', 'value': '2'},\n",
       "    {'dateTime': '08:09:30', 'value': '2'},\n",
       "    {'dateTime': '08:10:30', 'value': '2'},\n",
       "    {'dateTime': '08:11:30', 'value': '1'}],\n",
       "   'minutesAfterWakeup': 0,\n",
       "   'minutesAsleep': 496,\n",
       "   'minutesAwake': 38,\n",
       "   'minutesToFallAsleep': 0,\n",
       "   'restlessCount': 14,\n",
       "   'restlessDuration': 28,\n",
       "   'startTime': '2019-07-19T23:18:30.000',\n",
       "   'timeInBed': 534}],\n",
       " 'summary': {'stages': {'deep': 61, 'light': 260, 'rem': 122, 'wake': 91},\n",
       "  'totalMinutesAsleep': 496,\n",
       "  'totalSleepRecords': 1,\n",
       "  'totalTimeInBed': 534}}"
      ]
     },
     "execution_count": 210,
     "metadata": {},
     "output_type": "execute_result"
    }
   ],
   "source": [
    "sleep_daily[-2]"
   ]
  },
  {
   "cell_type": "code",
   "execution_count": null,
   "metadata": {},
   "outputs": [],
   "source": [
    "```{'sleep': [{'awakeCount': 3,\n",
    "   'awakeDuration': 10,\n",
    "   'awakeningsCount': 17,\n",
    "   'dateOfSleep': '2019-07-20',\n",
    "   'duration': 32040000,\n",
    "   'efficiency': 93,\n",
    "   'endTime': '2019-07-20T08:12:30.000',\n",
    "   'isMainSleep': True,\n",
    "   'logId': 23160192238,\n",
    "   'minuteData': [{'dateTime': '23:18:30', 'value': '1'},\n",
    "    {'dateTime': '23:19:30', 'value': '1'},\n",
    "    {'dateTime': '08:11:30', 'value': '1'}],\n",
    "   'minutesAfterWakeup': 0,\n",
    "   'minutesAsleep': 496,\n",
    "   'minutesAwake': 38,\n",
    "   'minutesToFallAsleep': 0,\n",
    "   'restlessCount': 14,\n",
    "   'restlessDuration': 28,\n",
    "   'startTime': '2019-07-19T23:18:30.000',\n",
    "   'timeInBed': 534}],\n",
    " 'summary': {'stages': {'deep': 61, 'light': 260, 'rem': 122, 'wake': 91},\n",
    "  'totalMinutesAsleep': 496,\n",
    "  'totalSleepRecords': 1,\n",
    "  'totalTimeInBed': 534}}```\n",
    "\n",
    "minuteData Value\n",
    " 1 (\"asleep\"), 2 (\"restless\"), or 3 (\"awake\").\n",
    "    \n",
    "# for more about stages: https://dev.fitbit.com/build/reference/web-api/sleep/"
   ]
  },
  {
   "cell_type": "markdown",
   "metadata": {},
   "source": [
    "### Sleep Duration Total (original)"
   ]
  },
  {
   "cell_type": "code",
   "execution_count": 18,
   "metadata": {
    "collapsed": true
   },
   "outputs": [],
   "source": [
    "# sleep minutes\n",
    "sleep_minutes = [sleep_entry['summary']['totalMinutesAsleep'] for sleep_entry in sleep_daily]\n",
    "\n",
    "# in-bed minutes\n",
    "inbed_minutes = [sleep_entry['summary']['totalTimeInBed'] for sleep_entry in sleep_daily]\n",
    "\n",
    "# sleep_minutes[-3]\n",
    "date_sleep = pd.DataFrame({'Date': dates_list, 'Sleep': sleep_minutes, 'InBed': inbed_minutes})"
   ]
  },
  {
   "cell_type": "code",
   "execution_count": 31,
   "metadata": {},
   "outputs": [
    {
     "data": {
      "text/html": [
       "<div>\n",
       "<style scoped>\n",
       "    .dataframe tbody tr th:only-of-type {\n",
       "        vertical-align: middle;\n",
       "    }\n",
       "\n",
       "    .dataframe tbody tr th {\n",
       "        vertical-align: top;\n",
       "    }\n",
       "\n",
       "    .dataframe thead th {\n",
       "        text-align: right;\n",
       "    }\n",
       "</style>\n",
       "<table border=\"1\" class=\"dataframe\">\n",
       "  <thead>\n",
       "    <tr style=\"text-align: right;\">\n",
       "      <th></th>\n",
       "      <th>Date</th>\n",
       "      <th>Sleep</th>\n",
       "      <th>Hours</th>\n",
       "    </tr>\n",
       "  </thead>\n",
       "  <tbody>\n",
       "    <tr>\n",
       "      <th>0</th>\n",
       "      <td>2019-06-01</td>\n",
       "      <td>438</td>\n",
       "      <td>7.30</td>\n",
       "    </tr>\n",
       "    <tr>\n",
       "      <th>1</th>\n",
       "      <td>2019-06-02</td>\n",
       "      <td>492</td>\n",
       "      <td>8.20</td>\n",
       "    </tr>\n",
       "    <tr>\n",
       "      <th>2</th>\n",
       "      <td>2019-06-03</td>\n",
       "      <td>397</td>\n",
       "      <td>6.62</td>\n",
       "    </tr>\n",
       "    <tr>\n",
       "      <th>3</th>\n",
       "      <td>2019-06-04</td>\n",
       "      <td>473</td>\n",
       "      <td>7.88</td>\n",
       "    </tr>\n",
       "    <tr>\n",
       "      <th>4</th>\n",
       "      <td>2019-06-05</td>\n",
       "      <td>498</td>\n",
       "      <td>8.30</td>\n",
       "    </tr>\n",
       "  </tbody>\n",
       "</table>\n",
       "</div>"
      ],
      "text/plain": [
       "         Date  Sleep  Hours\n",
       "0  2019-06-01    438   7.30\n",
       "1  2019-06-02    492   8.20\n",
       "2  2019-06-03    397   6.62\n",
       "3  2019-06-04    473   7.88\n",
       "4  2019-06-05    498   8.30"
      ]
     },
     "execution_count": 31,
     "metadata": {},
     "output_type": "execute_result"
    }
   ],
   "source": [
    "date_sleep.head()"
   ]
  },
  {
   "cell_type": "markdown",
   "metadata": {},
   "source": [
    "### In Bed "
   ]
  },
  {
   "cell_type": "code",
   "execution_count": 211,
   "metadata": {},
   "outputs": [],
   "source": [
    "# # List Comprehension\n",
    "# [value['endTime'] for sleep_entry in sleep_daily for value in sleep_entry['sleep']]\n",
    "\n",
    "# # For loop\n",
    "# for sleep_entry in sleep_daily:\n",
    "#     for value in sleep_entry['sleep']:\n",
    "#         print(value['endTime'])"
   ]
  },
  {
   "cell_type": "code",
   "execution_count": 194,
   "metadata": {},
   "outputs": [
    {
     "data": {
      "text/html": [
       "<div>\n",
       "<style scoped>\n",
       "    .dataframe tbody tr th:only-of-type {\n",
       "        vertical-align: middle;\n",
       "    }\n",
       "\n",
       "    .dataframe tbody tr th {\n",
       "        vertical-align: top;\n",
       "    }\n",
       "\n",
       "    .dataframe thead th {\n",
       "        text-align: right;\n",
       "    }\n",
       "</style>\n",
       "<table border=\"1\" class=\"dataframe\">\n",
       "  <thead>\n",
       "    <tr style=\"text-align: right;\">\n",
       "      <th></th>\n",
       "      <th>Date Start</th>\n",
       "      <th>Date End</th>\n",
       "      <th>InBed Minutes</th>\n",
       "      <th>Category</th>\n",
       "      <th>Date Abr</th>\n",
       "    </tr>\n",
       "  </thead>\n",
       "  <tbody>\n",
       "    <tr>\n",
       "      <th>0</th>\n",
       "      <td>2019-05-31 22:55:00</td>\n",
       "      <td>2019-06-01 06:40:30</td>\n",
       "      <td>465</td>\n",
       "      <td>inBed</td>\n",
       "      <td>2019-05-31</td>\n",
       "    </tr>\n",
       "    <tr>\n",
       "      <th>1</th>\n",
       "      <td>2019-06-01 23:22:00</td>\n",
       "      <td>2019-06-02 08:31:30</td>\n",
       "      <td>549</td>\n",
       "      <td>inBed</td>\n",
       "      <td>2019-06-01</td>\n",
       "    </tr>\n",
       "    <tr>\n",
       "      <th>2</th>\n",
       "      <td>2019-06-02 23:30:00</td>\n",
       "      <td>2019-06-03 06:33:00</td>\n",
       "      <td>423</td>\n",
       "      <td>inBed</td>\n",
       "      <td>2019-06-02</td>\n",
       "    </tr>\n",
       "    <tr>\n",
       "      <th>3</th>\n",
       "      <td>2019-06-03 22:53:30</td>\n",
       "      <td>2019-06-04 07:12:00</td>\n",
       "      <td>498</td>\n",
       "      <td>inBed</td>\n",
       "      <td>2019-06-03</td>\n",
       "    </tr>\n",
       "    <tr>\n",
       "      <th>4</th>\n",
       "      <td>2019-06-04 23:03:30</td>\n",
       "      <td>2019-06-05 07:47:00</td>\n",
       "      <td>523</td>\n",
       "      <td>inBed</td>\n",
       "      <td>2019-06-04</td>\n",
       "    </tr>\n",
       "  </tbody>\n",
       "</table>\n",
       "</div>"
      ],
      "text/plain": [
       "           Date Start            Date End  InBed Minutes Category    Date Abr\n",
       "0 2019-05-31 22:55:00 2019-06-01 06:40:30            465    inBed  2019-05-31\n",
       "1 2019-06-01 23:22:00 2019-06-02 08:31:30            549    inBed  2019-06-01\n",
       "2 2019-06-02 23:30:00 2019-06-03 06:33:00            423    inBed  2019-06-02\n",
       "3 2019-06-03 22:53:30 2019-06-04 07:12:00            498    inBed  2019-06-03\n",
       "4 2019-06-04 23:03:30 2019-06-05 07:47:00            523    inBed  2019-06-04"
      ]
     },
     "execution_count": 194,
     "metadata": {},
     "output_type": "execute_result"
    }
   ],
   "source": [
    "# Start of in-bed\n",
    "date_start = [value['startTime'] for sleep_entry in sleep_daily for value in sleep_entry['sleep']]\n",
    "\n",
    "# End of in-bed\n",
    "date_end = [value['endTime'] for sleep_entry in sleep_daily for value in sleep_entry['sleep']]\n",
    "\n",
    "# in-bed minutes 'timeInBed'\n",
    "inbed_minutes = [value['timeInBed'] for sleep_entry in sleep_daily for value in sleep_entry['sleep']]\n",
    "\n",
    "sleep_data = pd.DataFrame({'Date Start': date_start, 'Date End': date_end, 'InBed Minutes': inbed_minutes, 'Category': 'inBed'})\n",
    "sleep_data['Date Start'] = pd.to_datetime(sleep_data['Date Start'])\n",
    "sleep_data['Date End'] = pd.to_datetime(sleep_data['Date End'])\n",
    "\n",
    "sleep_data['Date Abr'] = sleep_data['Date Start'].dt.date\n",
    "\n",
    "sleep_data.head()"
   ]
  },
  {
   "cell_type": "code",
   "execution_count": 152,
   "metadata": {},
   "outputs": [
    {
     "data": {
      "text/plain": [
       "Date Start       datetime64[ns]\n",
       "Date End         datetime64[ns]\n",
       "InBed Minutes             int64\n",
       "Category                 object\n",
       "dtype: object"
      ]
     },
     "execution_count": 152,
     "metadata": {},
     "output_type": "execute_result"
    }
   ],
   "source": [
    "sleep_data.dtypes"
   ]
  },
  {
   "cell_type": "markdown",
   "metadata": {},
   "source": [
    "### In Bed Details"
   ]
  },
  {
   "cell_type": "code",
   "execution_count": 364,
   "metadata": {},
   "outputs": [
    {
     "data": {
      "text/html": [
       "<div>\n",
       "<style scoped>\n",
       "    .dataframe tbody tr th:only-of-type {\n",
       "        vertical-align: middle;\n",
       "    }\n",
       "\n",
       "    .dataframe tbody tr th {\n",
       "        vertical-align: top;\n",
       "    }\n",
       "\n",
       "    .dataframe thead th {\n",
       "        text-align: right;\n",
       "    }\n",
       "</style>\n",
       "<table border=\"1\" class=\"dataframe\">\n",
       "  <thead>\n",
       "    <tr style=\"text-align: right;\">\n",
       "      <th></th>\n",
       "      <th>Date</th>\n",
       "      <th>Time</th>\n",
       "      <th>InBed Value</th>\n",
       "      <th>Date Abr</th>\n",
       "      <th>Date Start</th>\n",
       "      <th>Seconds</th>\n",
       "      <th>Date End</th>\n",
       "      <th>InBed Activity</th>\n",
       "    </tr>\n",
       "  </thead>\n",
       "  <tbody>\n",
       "    <tr>\n",
       "      <th>0</th>\n",
       "      <td>2019-06-01</td>\n",
       "      <td>22:55:00</td>\n",
       "      <td>1</td>\n",
       "      <td>2019-06-01</td>\n",
       "      <td>2019-06-01 22:55:00</td>\n",
       "      <td>59</td>\n",
       "      <td>2019-06-01 22:55:59</td>\n",
       "      <td>asleep</td>\n",
       "    </tr>\n",
       "    <tr>\n",
       "      <th>1</th>\n",
       "      <td>2019-06-01</td>\n",
       "      <td>22:56:00</td>\n",
       "      <td>1</td>\n",
       "      <td>2019-06-01</td>\n",
       "      <td>2019-06-01 22:56:00</td>\n",
       "      <td>59</td>\n",
       "      <td>2019-06-01 22:56:59</td>\n",
       "      <td>asleep</td>\n",
       "    </tr>\n",
       "    <tr>\n",
       "      <th>2</th>\n",
       "      <td>2019-06-01</td>\n",
       "      <td>22:57:00</td>\n",
       "      <td>1</td>\n",
       "      <td>2019-06-01</td>\n",
       "      <td>2019-06-01 22:57:00</td>\n",
       "      <td>59</td>\n",
       "      <td>2019-06-01 22:57:59</td>\n",
       "      <td>asleep</td>\n",
       "    </tr>\n",
       "    <tr>\n",
       "      <th>3</th>\n",
       "      <td>2019-06-01</td>\n",
       "      <td>22:58:00</td>\n",
       "      <td>1</td>\n",
       "      <td>2019-06-01</td>\n",
       "      <td>2019-06-01 22:58:00</td>\n",
       "      <td>59</td>\n",
       "      <td>2019-06-01 22:58:59</td>\n",
       "      <td>asleep</td>\n",
       "    </tr>\n",
       "    <tr>\n",
       "      <th>4</th>\n",
       "      <td>2019-06-01</td>\n",
       "      <td>22:59:00</td>\n",
       "      <td>1</td>\n",
       "      <td>2019-06-01</td>\n",
       "      <td>2019-06-01 22:59:00</td>\n",
       "      <td>59</td>\n",
       "      <td>2019-06-01 22:59:59</td>\n",
       "      <td>asleep</td>\n",
       "    </tr>\n",
       "  </tbody>\n",
       "</table>\n",
       "</div>"
      ],
      "text/plain": [
       "         Date      Time  InBed Value   Date Abr          Date Start  Seconds  \\\n",
       "0  2019-06-01  22:55:00            1 2019-06-01 2019-06-01 22:55:00       59   \n",
       "1  2019-06-01  22:56:00            1 2019-06-01 2019-06-01 22:56:00       59   \n",
       "2  2019-06-01  22:57:00            1 2019-06-01 2019-06-01 22:57:00       59   \n",
       "3  2019-06-01  22:58:00            1 2019-06-01 2019-06-01 22:58:00       59   \n",
       "4  2019-06-01  22:59:00            1 2019-06-01 2019-06-01 22:59:00       59   \n",
       "\n",
       "             Date End InBed Activity  \n",
       "0 2019-06-01 22:55:59         asleep  \n",
       "1 2019-06-01 22:56:59         asleep  \n",
       "2 2019-06-01 22:57:59         asleep  \n",
       "3 2019-06-01 22:58:59         asleep  \n",
       "4 2019-06-01 22:59:59         asleep  "
      ]
     },
     "execution_count": 364,
     "metadata": {},
     "output_type": "execute_result"
    }
   ],
   "source": [
    "sleep_dateOfSleep = [feature['dateOfSleep'] \n",
    "                         for sleep_entry in sleep_daily \n",
    "                         for feature in sleep_entry['sleep']\n",
    "                         for time_detail in feature['minuteData']\n",
    "                        ]\n",
    "\n",
    "sleep_minuteData_dateTime = [time_detail['dateTime'] \n",
    "                         for sleep_entry in sleep_daily \n",
    "                         for feature in sleep_entry['sleep']\n",
    "                         for time_detail in feature['minuteData']\n",
    "                        ]\n",
    "\n",
    "sleep_minuteData_value = [time_detail['value'] \n",
    "                     for sleep_entry in sleep_daily \n",
    "                     for feature in sleep_entry['sleep']\n",
    "                     for time_detail in feature['minuteData']\n",
    "                    ]\n",
    "\n",
    "\n",
    "bd = pd.DataFrame({'Date': sleep_dateOfSleep, 'Time': sleep_minuteData_dateTime, 'InBed Value': sleep_minuteData_value})\n",
    "\n",
    "bd['InBed Value'] = bd['InBed Value'].astype(int)\n",
    "bd['Date Abr'] = pd.to_datetime(bd['Date'])\n",
    "\n",
    "bd['Date Start'] = pd.to_datetime(bd['Date'] + ' ' + bd['Time'])\n",
    "# hack (every entry is a minute long)\n",
    "bd['Seconds'] = 59\n",
    "bd['Date End'] = bd['Date Start'] + pd.to_timedelta(bd['Seconds'], unit='s')\n",
    "\n",
    "# bd['Time'] = pd.to_datetime(bd['Time'], format='%H:%M:%S').dt.time\n",
    "\n",
    "bd['InBed Activity'] = np.where(bd['InBed Value'] == 1, 'asleep',\n",
    "                                np.where(bd['InBed Value'] == 2, 'restless',\n",
    "                                         'awake'\n",
    "                                        )\n",
    "                               )\n",
    "\n",
    "bd.head()"
   ]
  },
  {
   "cell_type": "code",
   "execution_count": 365,
   "metadata": {},
   "outputs": [
    {
     "data": {
      "text/plain": [
       "Date                      object\n",
       "Time                      object\n",
       "InBed Value                int64\n",
       "Date Abr          datetime64[ns]\n",
       "Date Start        datetime64[ns]\n",
       "Seconds                    int64\n",
       "Date End          datetime64[ns]\n",
       "InBed Activity            object\n",
       "dtype: object"
      ]
     },
     "execution_count": 365,
     "metadata": {},
     "output_type": "execute_result"
    }
   ],
   "source": [
    "bd.dtypes"
   ]
  },
  {
   "cell_type": "code",
   "execution_count": 366,
   "metadata": {},
   "outputs": [
    {
     "data": {
      "text/html": [
       "<div>\n",
       "<style scoped>\n",
       "    .dataframe tbody tr th:only-of-type {\n",
       "        vertical-align: middle;\n",
       "    }\n",
       "\n",
       "    .dataframe tbody tr th {\n",
       "        vertical-align: top;\n",
       "    }\n",
       "\n",
       "    .dataframe thead th {\n",
       "        text-align: right;\n",
       "    }\n",
       "</style>\n",
       "<table border=\"1\" class=\"dataframe\">\n",
       "  <thead>\n",
       "    <tr style=\"text-align: right;\">\n",
       "      <th></th>\n",
       "      <th>Date Start</th>\n",
       "      <th>InBed Activity</th>\n",
       "    </tr>\n",
       "  </thead>\n",
       "  <tbody>\n",
       "    <tr>\n",
       "      <th>0</th>\n",
       "      <td>2019-06-01 00:00:00</td>\n",
       "      <td>1</td>\n",
       "    </tr>\n",
       "    <tr>\n",
       "      <th>17136</th>\n",
       "      <td>2019-07-04 03:35:00</td>\n",
       "      <td>1</td>\n",
       "    </tr>\n",
       "    <tr>\n",
       "      <th>17146</th>\n",
       "      <td>2019-07-04 03:45:00</td>\n",
       "      <td>1</td>\n",
       "    </tr>\n",
       "    <tr>\n",
       "      <th>17145</th>\n",
       "      <td>2019-07-04 03:44:00</td>\n",
       "      <td>1</td>\n",
       "    </tr>\n",
       "    <tr>\n",
       "      <th>17144</th>\n",
       "      <td>2019-07-04 03:43:00</td>\n",
       "      <td>1</td>\n",
       "    </tr>\n",
       "  </tbody>\n",
       "</table>\n",
       "</div>"
      ],
      "text/plain": [
       "               Date Start  InBed Activity\n",
       "0     2019-06-01 00:00:00               1\n",
       "17136 2019-07-04 03:35:00               1\n",
       "17146 2019-07-04 03:45:00               1\n",
       "17145 2019-07-04 03:44:00               1\n",
       "17144 2019-07-04 03:43:00               1"
      ]
     },
     "execution_count": 366,
     "metadata": {},
     "output_type": "execute_result"
    }
   ],
   "source": [
    "# Check: is each inBed Value unique\n",
    "adf = bd.groupby(['Date Start'])['InBed Activity'].nunique().reset_index()\n",
    "adf.sort_values('InBed Activity', ascending = False).head()"
   ]
  },
  {
   "cell_type": "code",
   "execution_count": 367,
   "metadata": {},
   "outputs": [
    {
     "data": {
      "text/html": [
       "<div>\n",
       "<style scoped>\n",
       "    .dataframe tbody tr th:only-of-type {\n",
       "        vertical-align: middle;\n",
       "    }\n",
       "\n",
       "    .dataframe tbody tr th {\n",
       "        vertical-align: top;\n",
       "    }\n",
       "\n",
       "    .dataframe thead th {\n",
       "        text-align: right;\n",
       "    }\n",
       "</style>\n",
       "<table border=\"1\" class=\"dataframe\">\n",
       "  <thead>\n",
       "    <tr style=\"text-align: right;\">\n",
       "      <th></th>\n",
       "      <th>Date Abr</th>\n",
       "      <th>InBed Activity</th>\n",
       "    </tr>\n",
       "  </thead>\n",
       "  <tbody>\n",
       "    <tr>\n",
       "      <th>29</th>\n",
       "      <td>2019-07-02</td>\n",
       "      <td>17</td>\n",
       "    </tr>\n",
       "    <tr>\n",
       "      <th>41</th>\n",
       "      <td>2019-07-17</td>\n",
       "      <td>15</td>\n",
       "    </tr>\n",
       "    <tr>\n",
       "      <th>12</th>\n",
       "      <td>2019-06-13</td>\n",
       "      <td>14</td>\n",
       "    </tr>\n",
       "    <tr>\n",
       "      <th>11</th>\n",
       "      <td>2019-06-12</td>\n",
       "      <td>13</td>\n",
       "    </tr>\n",
       "    <tr>\n",
       "      <th>27</th>\n",
       "      <td>2019-06-30</td>\n",
       "      <td>12</td>\n",
       "    </tr>\n",
       "  </tbody>\n",
       "</table>\n",
       "</div>"
      ],
      "text/plain": [
       "     Date Abr  InBed Activity\n",
       "29 2019-07-02              17\n",
       "41 2019-07-17              15\n",
       "12 2019-06-13              14\n",
       "11 2019-06-12              13\n",
       "27 2019-06-30              12"
      ]
     },
     "execution_count": 367,
     "metadata": {},
     "output_type": "execute_result"
    }
   ],
   "source": [
    "adf = bd[bd['InBed Value'] == 3].groupby(['Date Abr'])['InBed Activity'].count().reset_index()\n",
    "adf.sort_values('InBed Activity', ascending = False).head()"
   ]
  },
  {
   "cell_type": "code",
   "execution_count": 368,
   "metadata": {},
   "outputs": [
    {
     "data": {
      "text/html": [
       "<div>\n",
       "<style scoped>\n",
       "    .dataframe tbody tr th:only-of-type {\n",
       "        vertical-align: middle;\n",
       "    }\n",
       "\n",
       "    .dataframe tbody tr th {\n",
       "        vertical-align: top;\n",
       "    }\n",
       "\n",
       "    .dataframe thead th {\n",
       "        text-align: right;\n",
       "    }\n",
       "</style>\n",
       "<table border=\"1\" class=\"dataframe\">\n",
       "  <thead>\n",
       "    <tr style=\"text-align: right;\">\n",
       "      <th></th>\n",
       "      <th>Date Abr</th>\n",
       "      <th>InBed Activity</th>\n",
       "    </tr>\n",
       "  </thead>\n",
       "  <tbody>\n",
       "    <tr>\n",
       "      <th>49</th>\n",
       "      <td>2019-07-21</td>\n",
       "      <td>405</td>\n",
       "    </tr>\n",
       "    <tr>\n",
       "      <th>48</th>\n",
       "      <td>2019-07-20</td>\n",
       "      <td>496</td>\n",
       "    </tr>\n",
       "    <tr>\n",
       "      <th>47</th>\n",
       "      <td>2019-07-19</td>\n",
       "      <td>391</td>\n",
       "    </tr>\n",
       "    <tr>\n",
       "      <th>46</th>\n",
       "      <td>2019-07-18</td>\n",
       "      <td>532</td>\n",
       "    </tr>\n",
       "    <tr>\n",
       "      <th>45</th>\n",
       "      <td>2019-07-17</td>\n",
       "      <td>550</td>\n",
       "    </tr>\n",
       "  </tbody>\n",
       "</table>\n",
       "</div>"
      ],
      "text/plain": [
       "     Date Abr  InBed Activity\n",
       "49 2019-07-21             405\n",
       "48 2019-07-20             496\n",
       "47 2019-07-19             391\n",
       "46 2019-07-18             532\n",
       "45 2019-07-17             550"
      ]
     },
     "execution_count": 368,
     "metadata": {},
     "output_type": "execute_result"
    }
   ],
   "source": [
    "adf = bd[bd['InBed Value'] == 1].groupby(['Date Abr'])['InBed Activity'].count().reset_index()\n",
    "adf.sort_values('Date Abr', ascending = False).head()"
   ]
  },
  {
   "cell_type": "code",
   "execution_count": 369,
   "metadata": {},
   "outputs": [
    {
     "data": {
      "text/plain": [
       "6.75"
      ]
     },
     "execution_count": 369,
     "metadata": {},
     "output_type": "execute_result"
    }
   ],
   "source": [
    "405/60"
   ]
  },
  {
   "cell_type": "code",
   "execution_count": 370,
   "metadata": {},
   "outputs": [
    {
     "data": {
      "text/plain": [
       "45.0"
      ]
     },
     "execution_count": 370,
     "metadata": {},
     "output_type": "execute_result"
    }
   ],
   "source": [
    "60*.75"
   ]
  },
  {
   "cell_type": "code",
   "execution_count": 371,
   "metadata": {},
   "outputs": [
    {
     "data": {
      "text/html": [
       "<div>\n",
       "<style scoped>\n",
       "    .dataframe tbody tr th:only-of-type {\n",
       "        vertical-align: middle;\n",
       "    }\n",
       "\n",
       "    .dataframe tbody tr th {\n",
       "        vertical-align: top;\n",
       "    }\n",
       "\n",
       "    .dataframe thead th {\n",
       "        text-align: right;\n",
       "    }\n",
       "</style>\n",
       "<table border=\"1\" class=\"dataframe\">\n",
       "  <thead>\n",
       "    <tr style=\"text-align: right;\">\n",
       "      <th></th>\n",
       "      <th>Date Abr</th>\n",
       "      <th>InBed Activity</th>\n",
       "    </tr>\n",
       "  </thead>\n",
       "  <tbody>\n",
       "    <tr>\n",
       "      <th>49</th>\n",
       "      <td>2019-07-21</td>\n",
       "      <td>8</td>\n",
       "    </tr>\n",
       "    <tr>\n",
       "      <th>48</th>\n",
       "      <td>2019-07-20</td>\n",
       "      <td>28</td>\n",
       "    </tr>\n",
       "    <tr>\n",
       "      <th>47</th>\n",
       "      <td>2019-07-19</td>\n",
       "      <td>40</td>\n",
       "    </tr>\n",
       "    <tr>\n",
       "      <th>46</th>\n",
       "      <td>2019-07-18</td>\n",
       "      <td>62</td>\n",
       "    </tr>\n",
       "    <tr>\n",
       "      <th>45</th>\n",
       "      <td>2019-07-17</td>\n",
       "      <td>74</td>\n",
       "    </tr>\n",
       "  </tbody>\n",
       "</table>\n",
       "</div>"
      ],
      "text/plain": [
       "     Date Abr  InBed Activity\n",
       "49 2019-07-21               8\n",
       "48 2019-07-20              28\n",
       "47 2019-07-19              40\n",
       "46 2019-07-18              62\n",
       "45 2019-07-17              74"
      ]
     },
     "execution_count": 371,
     "metadata": {},
     "output_type": "execute_result"
    }
   ],
   "source": [
    "adf = bd[bd['InBed Value'] == 2].groupby(['Date Abr'])['InBed Activity'].count().reset_index()\n",
    "adf.sort_values('Date Abr', ascending = False).head()"
   ]
  },
  {
   "cell_type": "markdown",
   "metadata": {},
   "source": [
    "## Prep for Visualization"
   ]
  },
  {
   "cell_type": "code",
   "execution_count": 372,
   "metadata": {},
   "outputs": [],
   "source": [
    "# Minimum Requirement: Start Date, End Date, and Category\n",
    "df = sleep_data\n",
    "\n",
    "### Step 0: Set Up Variables\n",
    "start_date = '2019-07-10'  # Start date for data\n",
    "end_date   = '2019-07-21'  # End date for data\n",
    "\n",
    "# General Column Variable Names\n",
    "start_date_column = 'Date Start'\n",
    "end_date_column = 'Date End'\n",
    "category_column = 'Category' "
   ]
  },
  {
   "cell_type": "code",
   "execution_count": 373,
   "metadata": {},
   "outputs": [],
   "source": [
    "# Minimum Requirement: Start Date, End Date, and Category\n",
    "df = bd\n",
    "\n",
    "### Step 0: Set Up Variables\n",
    "start_date = '2019-07-10'  # Start date for data\n",
    "end_date   = '2019-07-21'  # End date for data\n",
    "\n",
    "# General Column Variable Names\n",
    "start_date_column = 'Date Start'\n",
    "end_date_column = 'Date End'\n",
    "category_column = 'InBed Activity' "
   ]
  },
  {
   "cell_type": "code",
   "execution_count": 494,
   "metadata": {},
   "outputs": [],
   "source": [
    "### Step 1: Find Data Gaps\n",
    "# Create a temporary dataframe of the end dates\n",
    "df_end = df[[end_date_column]].copy()\n",
    "# Add a column category with the field value 'No Entry'\n",
    "df_end[category_column] = 'No Entry'\n",
    "\n",
    "# If there is no gap in data (as in there is an entry immediately following the previous),\n",
    "# remove the the record from the df_end dataframe\n",
    "start_date_pt_list = list(df[start_date_column].unique())\n",
    "df_end = df_end[~df_end[end_date_column].isin(start_date_pt_list)]\n",
    "\n",
    "\n",
    "\n",
    "### Step 2: Combine End and Start Dates into single column\n",
    "# Create a two column data frame with the start date and the category\n",
    "df_start = df[[start_date_column, category_column]].copy()\n",
    "\n",
    "\n",
    "### Step 2.5: \n",
    "# Update column names to match that of df_start\n",
    "df_end.rename(columns = {end_date_column: start_date_column}, inplace = True)\n",
    "                         \n",
    "# Add the df_end dataframe to the bottom\n",
    "df_mini_entries = pd.concat([df_start, df_end])\n",
    "\n",
    "\n",
    "##------------------------------##\n",
    "\n",
    "### STEP 3: Expand Dataset - Every Second\n",
    "# Create a dataframe of second intevals between two dates   \n",
    "time_range = pd.date_range(start_date, end_date, freq= '1s')\n",
    "time_range_df = pd.DataFrame(time_range).rename(columns = {0: 'date_time'})\n",
    "\n",
    "# Convert to time\n",
    "time_range_df['date_time'] = pd.to_datetime(time_range_df['date_time'])\n",
    "\n",
    "# Replace time zone\n",
    "# time_range_df['date_time'] = [row.replace(tzinfo=from_zone).astimezone(to_zone) for row in time_range_df['date_time']]\n",
    "\n",
    "# Left Join our mini dataframe to this range \n",
    "df_seconds = pd.merge(time_range_df, df_mini_entries, how = 'left',  left_on = 'date_time', right_on = start_date_column)\n",
    "\n",
    "# Find the first date_time with a category entry\n",
    "date_of_first_entry = df_seconds[~df_seconds[category_column].isnull()]['date_time'].min()\n",
    "# Find the index of the first entry\n",
    "index_of_first_entry = df_seconds.index[df_seconds[start_date_column]==date_of_first_entry][0]\n",
    "\n",
    "# Reduce the dataframe to begin with the first entry\n",
    "df_seconds = df_seconds[index_of_first_entry:].copy()\n",
    "\n",
    "\n",
    "\n",
    "### Step 4: Categorize every minute\n",
    "# Forward fill the category until next entry\n",
    "df_seconds[category_column] = df_seconds[category_column].ffill()\n",
    "\n",
    "df_seconds[start_date_column] = df_seconds[start_date_column].ffill()"
   ]
  },
  {
   "cell_type": "code",
   "execution_count": 495,
   "metadata": {},
   "outputs": [
    {
     "data": {
      "text/html": [
       "<div>\n",
       "<style scoped>\n",
       "    .dataframe tbody tr th:only-of-type {\n",
       "        vertical-align: middle;\n",
       "    }\n",
       "\n",
       "    .dataframe tbody tr th {\n",
       "        vertical-align: top;\n",
       "    }\n",
       "\n",
       "    .dataframe thead th {\n",
       "        text-align: right;\n",
       "    }\n",
       "</style>\n",
       "<table border=\"1\" class=\"dataframe\">\n",
       "  <thead>\n",
       "    <tr style=\"text-align: right;\">\n",
       "      <th></th>\n",
       "      <th>date_time</th>\n",
       "      <th>Date Start</th>\n",
       "      <th>InBed Activity</th>\n",
       "    </tr>\n",
       "  </thead>\n",
       "  <tbody>\n",
       "    <tr>\n",
       "      <th>86400</th>\n",
       "      <td>2019-07-11 00:00:00</td>\n",
       "      <td>2019-07-11</td>\n",
       "      <td>asleep</td>\n",
       "    </tr>\n",
       "    <tr>\n",
       "      <th>86401</th>\n",
       "      <td>2019-07-11 00:00:01</td>\n",
       "      <td>2019-07-11</td>\n",
       "      <td>asleep</td>\n",
       "    </tr>\n",
       "    <tr>\n",
       "      <th>86402</th>\n",
       "      <td>2019-07-11 00:00:02</td>\n",
       "      <td>2019-07-11</td>\n",
       "      <td>asleep</td>\n",
       "    </tr>\n",
       "    <tr>\n",
       "      <th>86403</th>\n",
       "      <td>2019-07-11 00:00:03</td>\n",
       "      <td>2019-07-11</td>\n",
       "      <td>asleep</td>\n",
       "    </tr>\n",
       "    <tr>\n",
       "      <th>86404</th>\n",
       "      <td>2019-07-11 00:00:04</td>\n",
       "      <td>2019-07-11</td>\n",
       "      <td>asleep</td>\n",
       "    </tr>\n",
       "  </tbody>\n",
       "</table>\n",
       "</div>"
      ],
      "text/plain": [
       "                date_time Date Start InBed Activity\n",
       "86400 2019-07-11 00:00:00 2019-07-11         asleep\n",
       "86401 2019-07-11 00:00:01 2019-07-11         asleep\n",
       "86402 2019-07-11 00:00:02 2019-07-11         asleep\n",
       "86403 2019-07-11 00:00:03 2019-07-11         asleep\n",
       "86404 2019-07-11 00:00:04 2019-07-11         asleep"
      ]
     },
     "execution_count": 495,
     "metadata": {},
     "output_type": "execute_result"
    }
   ],
   "source": [
    "df_seconds.head()"
   ]
  },
  {
   "cell_type": "code",
   "execution_count": 376,
   "metadata": {},
   "outputs": [
    {
     "data": {
      "text/plain": [
       "['asleep', 'No Entry', 'restless', 'awake']"
      ]
     },
     "execution_count": 376,
     "metadata": {},
     "output_type": "execute_result"
    }
   ],
   "source": [
    "list(df_seconds[category_column].unique())"
   ]
  },
  {
   "cell_type": "code",
   "execution_count": 403,
   "metadata": {},
   "outputs": [
    {
     "data": {
      "text/html": [
       "<div>\n",
       "<style scoped>\n",
       "    .dataframe tbody tr th:only-of-type {\n",
       "        vertical-align: middle;\n",
       "    }\n",
       "\n",
       "    .dataframe tbody tr th {\n",
       "        vertical-align: top;\n",
       "    }\n",
       "\n",
       "    .dataframe thead th {\n",
       "        text-align: right;\n",
       "    }\n",
       "</style>\n",
       "<table border=\"1\" class=\"dataframe\">\n",
       "  <thead>\n",
       "    <tr style=\"text-align: right;\">\n",
       "      <th></th>\n",
       "      <th>date</th>\n",
       "      <th>InBed Activity</th>\n",
       "      <th>hours</th>\n",
       "    </tr>\n",
       "  </thead>\n",
       "  <tbody>\n",
       "    <tr>\n",
       "      <th>9</th>\n",
       "      <td>2019-07-20</td>\n",
       "      <td>1652</td>\n",
       "      <td>0.458889</td>\n",
       "    </tr>\n",
       "    <tr>\n",
       "      <th>8</th>\n",
       "      <td>2019-07-19</td>\n",
       "      <td>2360</td>\n",
       "      <td>0.655556</td>\n",
       "    </tr>\n",
       "    <tr>\n",
       "      <th>7</th>\n",
       "      <td>2019-07-18</td>\n",
       "      <td>3658</td>\n",
       "      <td>1.016111</td>\n",
       "    </tr>\n",
       "    <tr>\n",
       "      <th>6</th>\n",
       "      <td>2019-07-17</td>\n",
       "      <td>4366</td>\n",
       "      <td>1.212778</td>\n",
       "    </tr>\n",
       "    <tr>\n",
       "      <th>5</th>\n",
       "      <td>2019-07-16</td>\n",
       "      <td>3068</td>\n",
       "      <td>0.852222</td>\n",
       "    </tr>\n",
       "  </tbody>\n",
       "</table>\n",
       "</div>"
      ],
      "text/plain": [
       "         date  InBed Activity     hours\n",
       "9  2019-07-20            1652  0.458889\n",
       "8  2019-07-19            2360  0.655556\n",
       "7  2019-07-18            3658  1.016111\n",
       "6  2019-07-17            4366  1.212778\n",
       "5  2019-07-16            3068  0.852222"
      ]
     },
     "execution_count": 403,
     "metadata": {},
     "output_type": "execute_result"
    }
   ],
   "source": [
    "# Check\n",
    "d = df_seconds\n",
    "d['date'] = d['Date Start'].dt.date\n",
    "\n",
    "adf = d[d['InBed Activity'] == 'restless'].groupby(['date'])['InBed Activity'].count().reset_index()\n",
    "adf['hours'] = adf['InBed Activity']/(60*60)\n",
    "adf.sort_values('date', ascending = False).head()"
   ]
  },
  {
   "cell_type": "markdown",
   "metadata": {},
   "source": [
    "# Chart Category Prep"
   ]
  },
  {
   "cell_type": "code",
   "execution_count": 377,
   "metadata": {},
   "outputs": [],
   "source": [
    "import matplotlib.mlab as mlab\n",
    "import matplotlib.pyplot as plt\n",
    "%matplotlib inline\n",
    "import seaborn as sns\n",
    "sns.set(color_codes=True)\n",
    "\n",
    "import warnings\n",
    "warnings.filterwarnings(\"ignore\")"
   ]
  },
  {
   "cell_type": "code",
   "execution_count": 378,
   "metadata": {},
   "outputs": [],
   "source": [
    "fsize = 18\n",
    "params = {\n",
    "    'legend.fontsize': fsize*0.925, \n",
    "    'axes.labelsize': fsize, \n",
    "    'axes.titlesize':fsize, \n",
    "    'xtick.labelsize':fsize, \n",
    "    'ytick.labelsize':fsize,\n",
    "    'lines.linewidth' : 3,\n",
    "    'figure.titlesize': fsize *1.2,\n",
    "    'figure.figsize' : (8,8)\n",
    "} \n",
    "plt.rcParams.update(params) \n",
    "plt.close('all') "
   ]
  },
  {
   "cell_type": "code",
   "execution_count": 379,
   "metadata": {},
   "outputs": [
    {
     "name": "stdout",
     "output_type": "stream",
     "text": [
      "20\n"
     ]
    },
    {
     "data": {
      "image/png": "[encoded data removed]",
      "text/plain": [
       "<Figure size 1440x72 with 1 Axes>"
      ]
     },
     "metadata": {},
     "output_type": "display_data"
    }
   ],
   "source": [
    "color_palette_p = [\n",
    "    '#911eb4', \n",
    "    '#d1952e',\n",
    "    \"#1B503C\",\n",
    "    \"#D2D179\",\n",
    "    \"#4084BF\", \n",
    "    \n",
    "    '#e6194b', \n",
    "    '#52965b', \n",
    "    '#ffe119', \n",
    "    '#4363d8', \n",
    "    '#f58231',\n",
    "    \n",
    "    \"#5cb569\",\n",
    "    \"#e8bca7\",\n",
    "    \"#88ccbf\",\n",
    "    '#c45748',\n",
    "    '#b7b1b0',\n",
    "    \n",
    "    '#8ba3dd',\n",
    "    '#b7a519',\n",
    "    '#b27c62',\n",
    "    '#8b88cc', \n",
    "    '#e0c8a6'\n",
    "]\n",
    "print(len(color_palette_p))\n",
    "sns.palplot(color_palette_p)\n",
    "\n",
    "# pal50 = sns.color_palette(color_palette_p, 50)\n",
    "# len(pal50)"
   ]
  },
  {
   "cell_type": "code",
   "execution_count": 380,
   "metadata": {},
   "outputs": [],
   "source": [
    "# Set up variables\n",
    "d = df_seconds\n",
    "date_time_column = 'date_time'\n",
    "category_column = category_column\n",
    "\n",
    "select_all_categories = True #False\n",
    "specified_category_entries = ['inBed'] #, 'Social Networking']\n",
    "\n",
    "date_range_start = start_date\n",
    "date_range_end = end_date\n",
    "\n",
    "colors = color_palette_p"
   ]
  },
  {
   "cell_type": "code",
   "execution_count": 438,
   "metadata": {},
   "outputs": [],
   "source": [
    "# Set up variables\n",
    "d = df_seconds\n",
    "date_time_column = 'date_time'\n",
    "category_column = category_column\n",
    "\n",
    "select_all_categories = True #False\n",
    "specified_category_entries = ['asleep', 'restless'] #, 'Social Networking']\n",
    "\n",
    "date_range_start = start_date\n",
    "date_range_end = end_date\n",
    "\n",
    "colors = color_palette_p"
   ]
  },
  {
   "cell_type": "code",
   "execution_count": 439,
   "metadata": {},
   "outputs": [
    {
     "data": {
      "text/plain": [
       "'InBed Activity'"
      ]
     },
     "execution_count": 439,
     "metadata": {},
     "output_type": "execute_result"
    }
   ],
   "source": [
    "category_column"
   ]
  },
  {
   "cell_type": "code",
   "execution_count": 440,
   "metadata": {},
   "outputs": [],
   "source": [
    "d = d[(d[date_time_column] >= date_range_start) & (d[date_time_column] <= date_range_end)].copy()\n",
    "\n",
    "### X & Y Axis\n",
    "# x-axis time periods\n",
    "d['Date Abr'] = d['date_time'].dt.date\n",
    "\n",
    "# y-axis scaled for 24 hour period\n",
    "d['time_from_day_start'] = (d[date_time_column] - d[date_time_column].dt.normalize()).dt.total_seconds().fillna(0)/(60*60)\n",
    "\n",
    "### Colors & Categories\n",
    "category_list = list(d[category_column].unique())\n",
    "category_list_minus = category_list\n",
    "category_list_minus.remove('No Entry') \n",
    "# Zip colors\n",
    "color_pairs = dict(zip(category_list_minus, colors))\n",
    "\n",
    "# from itertools import zip_longest\n",
    "# color_pairs  = dict(zip_longest(category_list, color_palette_p, fillvalue = '#e0c8a6'))\n",
    "\n",
    "if select_all_categories == False:\n",
    "    ### Select Categories                              \n",
    "    # Create a list where all but the specified entries are included\n",
    "    category_list_remaining = category_list.copy()\n",
    "    [category_list_remaining.remove(x) for x in specified_category_entries]\n",
    "    # Convert all the not specified entries to the same color (make it easier to visually inspect for patterns)\n",
    "    color_pairs.update(dict.fromkeys(category_list_remaining, '#e8e8e8'))\n",
    "\n",
    "# Add back in 'No Entry' with specified color\n",
    "color_pairs['No Entry'] = '#ffffff'\n",
    "# Ordered categories and colors\n",
    "category_list_names_ordered = [key for (key, value) in sorted(color_pairs.items())]\n",
    "color_palette = [value for (key, value) in sorted(color_pairs.items())]"
   ]
  },
  {
   "cell_type": "code",
   "execution_count": 441,
   "metadata": {},
   "outputs": [
    {
     "data": {
      "text/html": [
       "<div>\n",
       "<style scoped>\n",
       "    .dataframe tbody tr th:only-of-type {\n",
       "        vertical-align: middle;\n",
       "    }\n",
       "\n",
       "    .dataframe tbody tr th {\n",
       "        vertical-align: top;\n",
       "    }\n",
       "\n",
       "    .dataframe thead th {\n",
       "        text-align: right;\n",
       "    }\n",
       "</style>\n",
       "<table border=\"1\" class=\"dataframe\">\n",
       "  <thead>\n",
       "    <tr style=\"text-align: right;\">\n",
       "      <th></th>\n",
       "      <th>date_time</th>\n",
       "      <th>Date Start</th>\n",
       "      <th>InBed Activity</th>\n",
       "      <th>date</th>\n",
       "      <th>Date Abr</th>\n",
       "      <th>time_from_day_start</th>\n",
       "    </tr>\n",
       "  </thead>\n",
       "  <tbody>\n",
       "    <tr>\n",
       "      <th>950400</th>\n",
       "      <td>2019-07-21 00:00:00</td>\n",
       "      <td>2019-07-20 23:59:30</td>\n",
       "      <td>asleep</td>\n",
       "      <td>2019-07-20</td>\n",
       "      <td>2019-07-21</td>\n",
       "      <td>0.000000</td>\n",
       "    </tr>\n",
       "    <tr>\n",
       "      <th>950399</th>\n",
       "      <td>2019-07-20 23:59:59</td>\n",
       "      <td>2019-07-20 23:59:30</td>\n",
       "      <td>asleep</td>\n",
       "      <td>2019-07-20</td>\n",
       "      <td>2019-07-20</td>\n",
       "      <td>23.999722</td>\n",
       "    </tr>\n",
       "    <tr>\n",
       "      <th>950398</th>\n",
       "      <td>2019-07-20 23:59:58</td>\n",
       "      <td>2019-07-20 23:59:30</td>\n",
       "      <td>asleep</td>\n",
       "      <td>2019-07-20</td>\n",
       "      <td>2019-07-20</td>\n",
       "      <td>23.999444</td>\n",
       "    </tr>\n",
       "    <tr>\n",
       "      <th>950397</th>\n",
       "      <td>2019-07-20 23:59:57</td>\n",
       "      <td>2019-07-20 23:59:30</td>\n",
       "      <td>asleep</td>\n",
       "      <td>2019-07-20</td>\n",
       "      <td>2019-07-20</td>\n",
       "      <td>23.999167</td>\n",
       "    </tr>\n",
       "    <tr>\n",
       "      <th>950396</th>\n",
       "      <td>2019-07-20 23:59:56</td>\n",
       "      <td>2019-07-20 23:59:30</td>\n",
       "      <td>asleep</td>\n",
       "      <td>2019-07-20</td>\n",
       "      <td>2019-07-20</td>\n",
       "      <td>23.998889</td>\n",
       "    </tr>\n",
       "  </tbody>\n",
       "</table>\n",
       "</div>"
      ],
      "text/plain": [
       "                 date_time          Date Start InBed Activity        date  \\\n",
       "950400 2019-07-21 00:00:00 2019-07-20 23:59:30         asleep  2019-07-20   \n",
       "950399 2019-07-20 23:59:59 2019-07-20 23:59:30         asleep  2019-07-20   \n",
       "950398 2019-07-20 23:59:58 2019-07-20 23:59:30         asleep  2019-07-20   \n",
       "950397 2019-07-20 23:59:57 2019-07-20 23:59:30         asleep  2019-07-20   \n",
       "950396 2019-07-20 23:59:56 2019-07-20 23:59:30         asleep  2019-07-20   \n",
       "\n",
       "          Date Abr  time_from_day_start  \n",
       "950400  2019-07-21             0.000000  \n",
       "950399  2019-07-20            23.999722  \n",
       "950398  2019-07-20            23.999444  \n",
       "950397  2019-07-20            23.999167  \n",
       "950396  2019-07-20            23.998889  "
      ]
     },
     "execution_count": 441,
     "metadata": {},
     "output_type": "execute_result"
    }
   ],
   "source": [
    "d.sort_values('date_time', ascending = False).head()"
   ]
  },
  {
   "cell_type": "code",
   "execution_count": 442,
   "metadata": {},
   "outputs": [
    {
     "data": {
      "text/plain": [
       "array(['asleep', 'No Entry', 'restless', 'awake'], dtype=object)"
      ]
     },
     "execution_count": 442,
     "metadata": {},
     "output_type": "execute_result"
    }
   ],
   "source": [
    "d[category_column].unique()"
   ]
  },
  {
   "cell_type": "code",
   "execution_count": 443,
   "metadata": {},
   "outputs": [
    {
     "data": {
      "text/html": [
       "<div>\n",
       "<style scoped>\n",
       "    .dataframe tbody tr th:only-of-type {\n",
       "        vertical-align: middle;\n",
       "    }\n",
       "\n",
       "    .dataframe tbody tr th {\n",
       "        vertical-align: top;\n",
       "    }\n",
       "\n",
       "    .dataframe thead th {\n",
       "        text-align: right;\n",
       "    }\n",
       "</style>\n",
       "<table border=\"1\" class=\"dataframe\">\n",
       "  <thead>\n",
       "    <tr style=\"text-align: right;\">\n",
       "      <th></th>\n",
       "      <th>Date Abr</th>\n",
       "      <th>InBed Activity</th>\n",
       "      <th>hours</th>\n",
       "    </tr>\n",
       "  </thead>\n",
       "  <tbody>\n",
       "    <tr>\n",
       "      <th>10</th>\n",
       "      <td>2019-07-21</td>\n",
       "      <td>1</td>\n",
       "      <td>0.000278</td>\n",
       "    </tr>\n",
       "    <tr>\n",
       "      <th>9</th>\n",
       "      <td>2019-07-20</td>\n",
       "      <td>29235</td>\n",
       "      <td>8.120833</td>\n",
       "    </tr>\n",
       "    <tr>\n",
       "      <th>8</th>\n",
       "      <td>2019-07-19</td>\n",
       "      <td>23069</td>\n",
       "      <td>6.408056</td>\n",
       "    </tr>\n",
       "    <tr>\n",
       "      <th>7</th>\n",
       "      <td>2019-07-18</td>\n",
       "      <td>31388</td>\n",
       "      <td>8.718889</td>\n",
       "    </tr>\n",
       "    <tr>\n",
       "      <th>6</th>\n",
       "      <td>2019-07-17</td>\n",
       "      <td>32450</td>\n",
       "      <td>9.013889</td>\n",
       "    </tr>\n",
       "  </tbody>\n",
       "</table>\n",
       "</div>"
      ],
      "text/plain": [
       "      Date Abr  InBed Activity     hours\n",
       "10  2019-07-21               1  0.000278\n",
       "9   2019-07-20           29235  8.120833\n",
       "8   2019-07-19           23069  6.408056\n",
       "7   2019-07-18           31388  8.718889\n",
       "6   2019-07-17           32450  9.013889"
      ]
     },
     "execution_count": 443,
     "metadata": {},
     "output_type": "execute_result"
    }
   ],
   "source": [
    "# Check\n",
    "d = d\n",
    "# d['date'] = d['Date Start'].dt.date\n",
    "\n",
    "adf = d[d['InBed Activity'] == 'asleep'].groupby(['Date Abr'])['InBed Activity'].count().reset_index()\n",
    "adf['hours'] = adf['InBed Activity']/(60*60)\n",
    "adf.sort_values('Date Abr', ascending = False).head()"
   ]
  },
  {
   "cell_type": "markdown",
   "metadata": {},
   "source": [
    "# Chart"
   ]
  },
  {
   "cell_type": "code",
   "execution_count": 491,
   "metadata": {},
   "outputs": [
    {
     "data": {
      "image/png": "[encoded data removed]",
      "text/plain": [
       "<Figure size 576x576 with 1 Axes>"
      ]
     },
     "metadata": {},
     "output_type": "display_data"
    }
   ],
   "source": [
    "\n",
    "plt.style.use('fivethirtyeight')\n",
    "\n",
    "v_val= 0\n",
    "h_val= 200\n",
    "verts = list(zip([-h_val,h_val,h_val,-h_val],[-v_val,-v_val,v_val,v_val]))\n",
    "\n",
    "for i in range(len(category_list)+1):\n",
    "    plt.scatter(d[d[category_column] == category_list_names_ordered[i]]['Date Abr'], \n",
    "            d[d[category_column] == category_list_names_ordered[i]]['time_from_day_start'], \n",
    "            s = 2000,\n",
    "            c=color_palette[i],\n",
    "            marker=(verts, 0),\n",
    "            alpha=0.01\n",
    "            )\n",
    "plt.xticks(rotation=90)\n",
    "plt.xlim(date_range_start, date_range_end)\n",
    "\n",
    "\n",
    "plt.legend(category_list_names_ordered, bbox_to_anchor=(1.4,0.5), loc=\"center\")\n",
    "plt.ylabel('Hours')\n",
    "plt.gca().invert_yaxis()\n",
    "plt.xlabel('Date')\n",
    "plt.title('Total Time Spent Per ' + category_column)\n",
    "plt.show()"
   ]
  },
  {
   "cell_type": "code",
   "execution_count": 486,
   "metadata": {},
   "outputs": [
    {
     "data": {
      "image/png": "[encoded data removed]",
      "text/plain": [
       "<Figure size 576x576 with 1 Axes>"
      ]
     },
     "metadata": {},
     "output_type": "display_data"
    }
   ],
   "source": [
    "alpha_strength = .5\n",
    "\n",
    "plt.style.use('fivethirtyeight')\n",
    "\n",
    "for i in range(len(category_list)+1):\n",
    "    plt.scatter(d[d[category_column] == category_list_names_ordered[i]]['Date Abr'], \n",
    "            d[d[category_column] == category_list_names_ordered[i]]['time_from_day_start'], \n",
    "            s = 2000,\n",
    "            c=color_palette[i],\n",
    "            marker = '_',\n",
    "            )\n",
    "plt.xticks(rotation=90)\n",
    "plt.xlim(date_range_start, date_range_end)\n",
    "\n",
    "\n",
    "plt.legend(category_list_names_ordered, bbox_to_anchor=(1.4,0.5), loc=\"center\")\n",
    "plt.ylabel('Hours')\n",
    "plt.gca().invert_yaxis()\n",
    "plt.xlabel('Date')\n",
    "plt.title('Total Time Spent Per ' + category_column)\n",
    "plt.show()"
   ]
  },
  {
   "cell_type": "markdown",
   "metadata": {},
   "source": [
    "## Stacked Plot"
   ]
  },
  {
   "cell_type": "code",
   "execution_count": 429,
   "metadata": {},
   "outputs": [],
   "source": [
    "import numpy as np\n"
   ]
  },
  {
   "cell_type": "code",
   "execution_count": 430,
   "metadata": {},
   "outputs": [],
   "source": [
    "data = sleep_data\n",
    "\n",
    "# Choose wich columns to aggregate over\n",
    "values_column_name = 'InBed Minutes'\n",
    "values_hour_conversion = 60 # 60 minutes in an hour\n",
    "\n",
    "# List of all dates, ordered\n",
    "date_list = list(data['Date Abr'].unique())\n",
    "date_list.sort()"
   ]
  },
  {
   "cell_type": "code",
   "execution_count": 431,
   "metadata": {},
   "outputs": [],
   "source": [
    "data = bd\n",
    "\n",
    "# Choose wich columns to aggregate over\n",
    "values_column_name = 'Seconds'\n",
    "values_hour_conversion = 60 * 60 # 60*60 seconds in an hour\n",
    "\n",
    "# List of all dates, ordered\n",
    "date_list = list(data['Date Abr'].unique())\n",
    "date_list.sort()"
   ]
  },
  {
   "cell_type": "code",
   "execution_count": 432,
   "metadata": {},
   "outputs": [],
   "source": [
    "objects = date_list\n",
    "pos = np.arange(len(date_list))\n",
    "\n",
    "# Select the categories to focus on\n",
    "category_list_alt = specified_category_entries\n",
    "\n",
    "d2_alt = data[data[category_column].isin(category_list_alt)].groupby([category_column, 'Date Abr'])[values_column_name].sum().reset_index()\n",
    "d2_alt['hours'] = d2_alt[values_column_name]/values_hour_conversion\n",
    "\n",
    "# Select the colors that match the cat_color pairings\n",
    "cat_color_pairs_alt = {item: color_pairs.get(item) for item in category_list_alt}\n",
    "colors_alt = list(cat_color_pairs_alt.values())\n",
    "\n",
    "\n",
    "# STACKED BAR PLOT: Pivot Table\n",
    "# Create a pivot table in order to create a stacked bar chart\n",
    "pivot_d2 = d2_alt.pivot(index='Date Abr', columns=category_column, values='hours')\n"
   ]
  },
  {
   "cell_type": "code",
   "execution_count": 433,
   "metadata": {},
   "outputs": [
    {
     "data": {
      "text/html": [
       "<div>\n",
       "<style scoped>\n",
       "    .dataframe tbody tr th:only-of-type {\n",
       "        vertical-align: middle;\n",
       "    }\n",
       "\n",
       "    .dataframe tbody tr th {\n",
       "        vertical-align: top;\n",
       "    }\n",
       "\n",
       "    .dataframe thead th {\n",
       "        text-align: right;\n",
       "    }\n",
       "</style>\n",
       "<table border=\"1\" class=\"dataframe\">\n",
       "  <thead>\n",
       "    <tr style=\"text-align: right;\">\n",
       "      <th></th>\n",
       "      <th>InBed Activity</th>\n",
       "      <th>Date Abr</th>\n",
       "      <th>Seconds</th>\n",
       "      <th>hours</th>\n",
       "    </tr>\n",
       "  </thead>\n",
       "  <tbody>\n",
       "    <tr>\n",
       "      <th>0</th>\n",
       "      <td>asleep</td>\n",
       "      <td>2019-06-01</td>\n",
       "      <td>25842</td>\n",
       "      <td>7.178333</td>\n",
       "    </tr>\n",
       "    <tr>\n",
       "      <th>1</th>\n",
       "      <td>asleep</td>\n",
       "      <td>2019-06-02</td>\n",
       "      <td>29028</td>\n",
       "      <td>8.063333</td>\n",
       "    </tr>\n",
       "    <tr>\n",
       "      <th>2</th>\n",
       "      <td>asleep</td>\n",
       "      <td>2019-06-03</td>\n",
       "      <td>23423</td>\n",
       "      <td>6.506389</td>\n",
       "    </tr>\n",
       "    <tr>\n",
       "      <th>3</th>\n",
       "      <td>asleep</td>\n",
       "      <td>2019-06-04</td>\n",
       "      <td>27907</td>\n",
       "      <td>7.751944</td>\n",
       "    </tr>\n",
       "    <tr>\n",
       "      <th>4</th>\n",
       "      <td>asleep</td>\n",
       "      <td>2019-06-05</td>\n",
       "      <td>29382</td>\n",
       "      <td>8.161667</td>\n",
       "    </tr>\n",
       "  </tbody>\n",
       "</table>\n",
       "</div>"
      ],
      "text/plain": [
       "  InBed Activity   Date Abr  Seconds     hours\n",
       "0         asleep 2019-06-01    25842  7.178333\n",
       "1         asleep 2019-06-02    29028  8.063333\n",
       "2         asleep 2019-06-03    23423  6.506389\n",
       "3         asleep 2019-06-04    27907  7.751944\n",
       "4         asleep 2019-06-05    29382  8.161667"
      ]
     },
     "execution_count": 433,
     "metadata": {},
     "output_type": "execute_result"
    }
   ],
   "source": [
    "d2_alt.head()"
   ]
  },
  {
   "cell_type": "code",
   "execution_count": 434,
   "metadata": {},
   "outputs": [
    {
     "data": {
      "image/png": "[encoded data removed]",
      "text/plain": [
       "<Figure size 720x432 with 1 Axes>"
      ]
     },
     "metadata": {},
     "output_type": "display_data"
    }
   ],
   "source": [
    "pivot_d2.plot.bar(stacked=True, \n",
    "                  color = colors_alt, \n",
    "                  figsize=(10,6),\n",
    "                  edgecolor = 'black', \n",
    "                  linewidth = 1)\n",
    "\n",
    "plt.xticks(pos, objects)\n",
    "plt.xticks(rotation=90)\n",
    "plt.legend(category_list_alt , bbox_to_anchor=(1.2,0.5), loc=\"center\")\n",
    "\n",
    "\n",
    "plt.ylabel('Hours')\n",
    "plt.xlabel('Week Start')\n",
    "plt.title('Total Time Spent Per ' + category_column)\n",
    "plt.show()\n"
   ]
  }
 ],
 "metadata": {
  "kernelspec": {
   "display_name": "Python 3",
   "language": "python",
   "name": "python3"
  },
  "language_info": {
   "codemirror_mode": {
    "name": "ipython",
    "version": 3
   },
   "file_extension": ".py",
   "mimetype": "text/x-python",
   "name": "python",
   "nbconvert_exporter": "python",
   "pygments_lexer": "ipython3",
   "version": "3.6.8"
  }
 },
 "nbformat": 4,
 "nbformat_minor": 2
}
