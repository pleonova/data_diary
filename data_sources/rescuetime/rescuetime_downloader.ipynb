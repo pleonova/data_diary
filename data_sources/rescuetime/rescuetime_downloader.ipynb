{
 "cells": [
  {
   "cell_type": "markdown",
   "metadata": {},
   "source": [
    "# RescueTime Downloader"
   ]
  },
  {
   "cell_type": "markdown",
   "metadata": {},
   "source": [
    "Code to collect and export RescueTime Activity Logs, includes options to collect in hourly or minute bins. Default is hourly.\n",
    "\n",
    "**NOTE:** Collecting Full History takes some time, depending how many years of data you have. I recommend you configure the script below to pull data in yearly chunks, though it should work if you attempt to export full history. "
   ]
  },
  {
   "cell_type": "markdown",
   "metadata": {},
   "source": [
    "------"
   ]
  },
  {
   "cell_type": "markdown",
   "metadata": {},
   "source": [
    "## Setup and Installation"
   ]
  },
  {
   "cell_type": "markdown",
   "metadata": {},
   "source": [
    "* Go to [RescueTime API](https://www.rescuetime.com/anapi/manage) and copy an API Key \n",
    "* Copy credentials-sample.json to create credentials.json and add your RescueTime Key.\n",
    "* This project depends on no additional code besides standard python libraries and Pandas. "
   ]
  },
  {
   "cell_type": "markdown",
   "metadata": {},
   "source": [
    "-----"
   ]
  },
  {
   "cell_type": "markdown",
   "metadata": {},
   "source": [
    "## Dependencies"
   ]
  },
  {
   "cell_type": "code",
   "execution_count": 291,
   "metadata": {
    "collapsed": true
   },
   "outputs": [],
   "source": [
    "import requests\n",
    "import os\n",
    "from datetime import date, datetime, timedelta as td\n",
    "import pandas as pd"
   ]
  },
  {
   "cell_type": "markdown",
   "metadata": {},
   "source": [
    "----"
   ]
  },
  {
   "cell_type": "markdown",
   "metadata": {},
   "source": [
    "## Credentials"
   ]
  },
  {
   "cell_type": "code",
   "execution_count": 292,
   "metadata": {},
   "outputs": [],
   "source": [
    "import json\n",
    "\n",
    "with open(\"credentials.json\", \"r\") as file:\n",
    "    credentials = json.load(file)\n",
    "    rescuetime_cr = credentials['rescuetime']\n",
    "    KEY = rescuetime_cr['KEY']"
   ]
  },
  {
   "cell_type": "code",
   "execution_count": 293,
   "metadata": {
    "collapsed": true
   },
   "outputs": [],
   "source": [
    "baseurl = 'https://www.rescuetime.com/anapi/data?key='"
   ]
  },
  {
   "cell_type": "code",
   "execution_count": 294,
   "metadata": {
    "collapsed": true
   },
   "outputs": [],
   "source": [
    "url =  baseurl + KEY"
   ]
  },
  {
   "cell_type": "markdown",
   "metadata": {},
   "source": [
    "----"
   ]
  },
  {
   "cell_type": "markdown",
   "metadata": {},
   "source": [
    "## Export Dates Configuration"
   ]
  },
  {
   "cell_type": "code",
   "execution_count": 295,
   "metadata": {},
   "outputs": [],
   "source": [
    "# Configure These to Your Preferred Dates\n",
    "start_date = '2017-01-01'  # Start date for data\n",
    "end_date   = '2017-12-31'  # End date for data"
   ]
  },
  {
   "cell_type": "markdown",
   "metadata": {},
   "source": [
    "------"
   ]
  },
  {
   "cell_type": "markdown",
   "metadata": {},
   "source": [
    "## Function to Get RescueTime Activities"
   ]
  },
  {
   "cell_type": "code",
   "execution_count": 296,
   "metadata": {
    "collapsed": true
   },
   "outputs": [],
   "source": [
    "# Adjustable by Time Period\n",
    "def rescuetime_get_activities(start_date, end_date, resolution='hour'):\n",
    "    # Configuration for Query\n",
    "    # SEE: https://www.rescuetime.com/apidoc\n",
    "    payload = {\n",
    "        'perspective':'interval',\n",
    "        'resolution_time': resolution, #1 of \"month\", \"week\", \"day\", \"hour\", \"minute\"\n",
    "        'restrict_kind':'document',\n",
    "        'restrict_begin': start_date,\n",
    "        'restrict_end': end_date,\n",
    "        'format':'json' #csv\n",
    "    }\n",
    "    \n",
    "    # Setup Iteration - by Day\n",
    "    d1 = datetime.strptime(payload['restrict_begin'], \"%Y-%m-%d\").date()\n",
    "    d2 = datetime.strptime(payload['restrict_end'], \"%Y-%m-%d\").date()\n",
    "    delta = d2 - d1\n",
    "    \n",
    "    activities_list = []\n",
    "    \n",
    "    # Iterate through the days, making a request per day\n",
    "    for i in range(delta.days + 1):\n",
    "        # Find iter date and set begin and end values to this to extract at once.\n",
    "        d3 = d1 + td(days=i) # Add a day\n",
    "        if d3.day == 1: print('Pulling Monthly Data for ', d3)\n",
    "\n",
    "        # Update the Payload\n",
    "        payload['restrict_begin'] = str(d3) # Set payload days to current\n",
    "        payload['restrict_end'] = str(d3)   # Set payload days to current\n",
    "\n",
    "        # Request\n",
    "        try: \n",
    "            r = requests.get(url, payload) # Make Request\n",
    "            iter_result = r.json() # Parse result\n",
    "            # print(\"Collecting Activities for \" + str(d3))\n",
    "        except: \n",
    "            print(\"Error collecting data for \" + str(d3))\n",
    "    \n",
    "        for i in iter_result['rows']:\n",
    "            activities_list.append(i)\n",
    "            \n",
    "    return activities_list"
   ]
  },
  {
   "cell_type": "markdown",
   "metadata": {},
   "source": [
    "---"
   ]
  },
  {
   "cell_type": "markdown",
   "metadata": {},
   "source": [
    "## Collect Report of Activites By Day"
   ]
  },
  {
   "cell_type": "code",
   "execution_count": 297,
   "metadata": {},
   "outputs": [],
   "source": [
    "# activities_day_log = rescuetime_get_activities(start_date, end_date, 'day')"
   ]
  },
  {
   "cell_type": "code",
   "execution_count": 298,
   "metadata": {},
   "outputs": [],
   "source": [
    "# activities_daily = pd.DataFrame.from_dict(activities_day_log)"
   ]
  },
  {
   "cell_type": "code",
   "execution_count": 299,
   "metadata": {},
   "outputs": [],
   "source": [
    "# activities_daily.info()"
   ]
  },
  {
   "cell_type": "code",
   "execution_count": 300,
   "metadata": {},
   "outputs": [],
   "source": [
    "# activities_daily.describe()"
   ]
  },
  {
   "cell_type": "code",
   "execution_count": 301,
   "metadata": {},
   "outputs": [],
   "source": [
    "# activities_daily.tail()"
   ]
  },
  {
   "cell_type": "markdown",
   "metadata": {},
   "source": [
    "----"
   ]
  },
  {
   "cell_type": "markdown",
   "metadata": {},
   "source": [
    "## Collect Report of Activites By Hour"
   ]
  },
  {
   "cell_type": "code",
   "execution_count": 302,
   "metadata": {},
   "outputs": [
    {
     "name": "stdout",
     "output_type": "stream",
     "text": [
      "Pulling Monthly Data for  2017-01-01\n",
      "Pulling Monthly Data for  2017-02-01\n",
      "Pulling Monthly Data for  2017-03-01\n",
      "Pulling Monthly Data for  2017-04-01\n",
      "Pulling Monthly Data for  2017-05-01\n",
      "Pulling Monthly Data for  2017-06-01\n",
      "Pulling Monthly Data for  2017-07-01\n",
      "Pulling Monthly Data for  2017-08-01\n",
      "Pulling Monthly Data for  2017-09-01\n",
      "Pulling Monthly Data for  2017-10-01\n",
      "Pulling Monthly Data for  2017-11-01\n",
      "Pulling Monthly Data for  2017-12-01\n"
     ]
    }
   ],
   "source": [
    "activities_hour_log = rescuetime_get_activities(start_date, end_date, 'hour')"
   ]
  },
  {
   "cell_type": "code",
   "execution_count": 303,
   "metadata": {},
   "outputs": [],
   "source": [
    "activities_hourly = pd.DataFrame.from_dict(activities_hour_log)"
   ]
  },
  {
   "cell_type": "code",
   "execution_count": 304,
   "metadata": {
    "collapsed": true
   },
   "outputs": [],
   "source": [
    "activities_hourly.columns = ['Date', 'Seconds', 'NumberPeople', 'Actitivity', 'Document', 'Category', 'Productivity']"
   ]
  },
  {
   "cell_type": "code",
   "execution_count": 305,
   "metadata": {},
   "outputs": [
    {
     "name": "stdout",
     "output_type": "stream",
     "text": [
      "<class 'pandas.core.frame.DataFrame'>\n",
      "RangeIndex: 125535 entries, 0 to 125534\n",
      "Data columns (total 7 columns):\n",
      "Date            125535 non-null object\n",
      "Seconds         125535 non-null int64\n",
      "NumberPeople    125535 non-null int64\n",
      "Actitivity      125535 non-null object\n",
      "Document        125535 non-null object\n",
      "Category        125535 non-null object\n",
      "Productivity    125535 non-null int64\n",
      "dtypes: int64(3), object(4)\n",
      "memory usage: 6.7+ MB\n"
     ]
    }
   ],
   "source": [
    "activities_hourly.info()"
   ]
  },
  {
   "cell_type": "code",
   "execution_count": 306,
   "metadata": {},
   "outputs": [
    {
     "data": {
      "text/html": [
       "<div>\n",
       "<style>\n",
       "    .dataframe thead tr:only-child th {\n",
       "        text-align: right;\n",
       "    }\n",
       "\n",
       "    .dataframe thead th {\n",
       "        text-align: left;\n",
       "    }\n",
       "\n",
       "    .dataframe tbody tr th {\n",
       "        vertical-align: top;\n",
       "    }\n",
       "</style>\n",
       "<table border=\"1\" class=\"dataframe\">\n",
       "  <thead>\n",
       "    <tr style=\"text-align: right;\">\n",
       "      <th></th>\n",
       "      <th>Seconds</th>\n",
       "      <th>NumberPeople</th>\n",
       "      <th>Productivity</th>\n",
       "    </tr>\n",
       "  </thead>\n",
       "  <tbody>\n",
       "    <tr>\n",
       "      <th>count</th>\n",
       "      <td>125535.000000</td>\n",
       "      <td>125535.0</td>\n",
       "      <td>125535.000000</td>\n",
       "    </tr>\n",
       "    <tr>\n",
       "      <th>mean</th>\n",
       "      <td>62.490453</td>\n",
       "      <td>1.0</td>\n",
       "      <td>0.856813</td>\n",
       "    </tr>\n",
       "    <tr>\n",
       "      <th>std</th>\n",
       "      <td>189.186666</td>\n",
       "      <td>0.0</td>\n",
       "      <td>1.350972</td>\n",
       "    </tr>\n",
       "    <tr>\n",
       "      <th>min</th>\n",
       "      <td>1.000000</td>\n",
       "      <td>1.0</td>\n",
       "      <td>-2.000000</td>\n",
       "    </tr>\n",
       "    <tr>\n",
       "      <th>25%</th>\n",
       "      <td>2.000000</td>\n",
       "      <td>1.0</td>\n",
       "      <td>0.000000</td>\n",
       "    </tr>\n",
       "    <tr>\n",
       "      <th>50%</th>\n",
       "      <td>9.000000</td>\n",
       "      <td>1.0</td>\n",
       "      <td>1.000000</td>\n",
       "    </tr>\n",
       "    <tr>\n",
       "      <th>75%</th>\n",
       "      <td>41.000000</td>\n",
       "      <td>1.0</td>\n",
       "      <td>2.000000</td>\n",
       "    </tr>\n",
       "    <tr>\n",
       "      <th>max</th>\n",
       "      <td>3886.000000</td>\n",
       "      <td>1.0</td>\n",
       "      <td>2.000000</td>\n",
       "    </tr>\n",
       "  </tbody>\n",
       "</table>\n",
       "</div>"
      ],
      "text/plain": [
       "             Seconds  NumberPeople   Productivity\n",
       "count  125535.000000      125535.0  125535.000000\n",
       "mean       62.490453           1.0       0.856813\n",
       "std       189.186666           0.0       1.350972\n",
       "min         1.000000           1.0      -2.000000\n",
       "25%         2.000000           1.0       0.000000\n",
       "50%         9.000000           1.0       1.000000\n",
       "75%        41.000000           1.0       2.000000\n",
       "max      3886.000000           1.0       2.000000"
      ]
     },
     "execution_count": 306,
     "metadata": {},
     "output_type": "execute_result"
    }
   ],
   "source": [
    "activities_hourly.describe()"
   ]
  },
  {
   "cell_type": "code",
   "execution_count": 307,
   "metadata": {},
   "outputs": [
    {
     "data": {
      "text/html": [
       "<div>\n",
       "<style>\n",
       "    .dataframe thead tr:only-child th {\n",
       "        text-align: right;\n",
       "    }\n",
       "\n",
       "    .dataframe thead th {\n",
       "        text-align: left;\n",
       "    }\n",
       "\n",
       "    .dataframe tbody tr th {\n",
       "        vertical-align: top;\n",
       "    }\n",
       "</style>\n",
       "<table border=\"1\" class=\"dataframe\">\n",
       "  <thead>\n",
       "    <tr style=\"text-align: right;\">\n",
       "      <th></th>\n",
       "      <th>Date</th>\n",
       "      <th>Seconds</th>\n",
       "      <th>NumberPeople</th>\n",
       "      <th>Actitivity</th>\n",
       "      <th>Document</th>\n",
       "      <th>Category</th>\n",
       "      <th>Productivity</th>\n",
       "    </tr>\n",
       "  </thead>\n",
       "  <tbody>\n",
       "    <tr>\n",
       "      <th>125530</th>\n",
       "      <td>2017-12-31T23:00:00</td>\n",
       "      <td>1</td>\n",
       "      <td>1</td>\n",
       "      <td>medium.com</td>\n",
       "      <td>Untitled</td>\n",
       "      <td>Writing</td>\n",
       "      <td>2</td>\n",
       "    </tr>\n",
       "    <tr>\n",
       "      <th>125531</th>\n",
       "      <td>2017-12-31T23:00:00</td>\n",
       "      <td>1</td>\n",
       "      <td>1</td>\n",
       "      <td>en.wikipedia.org</td>\n",
       "      <td>https://en.wikipedia.org/wiki/Earl_Park,_Arncl...</td>\n",
       "      <td>General Reference &amp; Learning</td>\n",
       "      <td>1</td>\n",
       "    </tr>\n",
       "    <tr>\n",
       "      <th>125532</th>\n",
       "      <td>2017-12-31T23:00:00</td>\n",
       "      <td>1</td>\n",
       "      <td>1</td>\n",
       "      <td>en.wikipedia.org</td>\n",
       "      <td>Untitled</td>\n",
       "      <td>General Reference &amp; Learning</td>\n",
       "      <td>1</td>\n",
       "    </tr>\n",
       "    <tr>\n",
       "      <th>125533</th>\n",
       "      <td>2017-12-31T23:00:00</td>\n",
       "      <td>1</td>\n",
       "      <td>1</td>\n",
       "      <td>trainasone.com</td>\n",
       "      <td>No Details</td>\n",
       "      <td>Health &amp; Medicine</td>\n",
       "      <td>1</td>\n",
       "    </tr>\n",
       "    <tr>\n",
       "      <th>125534</th>\n",
       "      <td>2017-12-31T23:00:00</td>\n",
       "      <td>1</td>\n",
       "      <td>1</td>\n",
       "      <td>medium.com</td>\n",
       "      <td>https://medium.com/40-weeks/37-772d7f519f9</td>\n",
       "      <td>Writing</td>\n",
       "      <td>2</td>\n",
       "    </tr>\n",
       "  </tbody>\n",
       "</table>\n",
       "</div>"
      ],
      "text/plain": [
       "                       Date  Seconds  NumberPeople        Actitivity  \\\n",
       "125530  2017-12-31T23:00:00        1             1        medium.com   \n",
       "125531  2017-12-31T23:00:00        1             1  en.wikipedia.org   \n",
       "125532  2017-12-31T23:00:00        1             1  en.wikipedia.org   \n",
       "125533  2017-12-31T23:00:00        1             1    trainasone.com   \n",
       "125534  2017-12-31T23:00:00        1             1        medium.com   \n",
       "\n",
       "                                                 Document  \\\n",
       "125530                                           Untitled   \n",
       "125531  https://en.wikipedia.org/wiki/Earl_Park,_Arncl...   \n",
       "125532                                           Untitled   \n",
       "125533                                         No Details   \n",
       "125534         https://medium.com/40-weeks/37-772d7f519f9   \n",
       "\n",
       "                            Category  Productivity  \n",
       "125530                       Writing             2  \n",
       "125531  General Reference & Learning             1  \n",
       "125532  General Reference & Learning             1  \n",
       "125533             Health & Medicine             1  \n",
       "125534                       Writing             2  "
      ]
     },
     "execution_count": 307,
     "metadata": {},
     "output_type": "execute_result"
    }
   ],
   "source": [
    "activities_hourly.tail()"
   ]
  },
  {
   "cell_type": "code",
   "execution_count": 308,
   "metadata": {},
   "outputs": [],
   "source": [
    "activities_hourly.to_csv('data/rescuetime-hourly-' + start_date + '-to-' + end_date + '.csv')"
   ]
  },
  {
   "cell_type": "markdown",
   "metadata": {},
   "source": [
    "## Collect Report of Activites By Minute"
   ]
  },
  {
   "cell_type": "code",
   "execution_count": 309,
   "metadata": {},
   "outputs": [],
   "source": [
    "# activities_minute_log = rescuetime_get_activities(start_date, end_date, 'minute')"
   ]
  },
  {
   "cell_type": "code",
   "execution_count": 310,
   "metadata": {
    "collapsed": true
   },
   "outputs": [],
   "source": [
    "# activities_per_minute = pd.DataFrame.from_dict(activities_minute_log)"
   ]
  },
  {
   "cell_type": "code",
   "execution_count": 311,
   "metadata": {
    "collapsed": true
   },
   "outputs": [],
   "source": [
    "# Date', u'Time Spent (seconds)', u'Number of People', u'Activity', u'Document', u'Category', u'Productivity'\n",
    "# activities_per_minute.columns = ['Date', 'Seconds', 'NumberPeople', 'Actitivity', 'Document', 'Category', 'Productivity']"
   ]
  },
  {
   "cell_type": "code",
   "execution_count": 312,
   "metadata": {},
   "outputs": [],
   "source": [
    "# activities_per_minute.head()"
   ]
  },
  {
   "cell_type": "code",
   "execution_count": 313,
   "metadata": {},
   "outputs": [],
   "source": [
    "# activities_per_minute.info()"
   ]
  },
  {
   "cell_type": "code",
   "execution_count": 314,
   "metadata": {},
   "outputs": [],
   "source": [
    "# activities_per_minute.describe()"
   ]
  },
  {
   "cell_type": "code",
   "execution_count": 315,
   "metadata": {
    "collapsed": true
   },
   "outputs": [],
   "source": [
    "# activities_per_minute.to_csv('data/rescuetime-by-minute' + start_date + '-to-' + end_date + '.csv')"
   ]
  },
  {
   "cell_type": "markdown",
   "metadata": {},
   "source": [
    "-----"
   ]
  },
  {
   "cell_type": "markdown",
   "metadata": {},
   "source": [
    "## Simple Analysis (Using Exported Logs)"
   ]
  },
  {
   "cell_type": "code",
   "execution_count": 316,
   "metadata": {
    "collapsed": true
   },
   "outputs": [],
   "source": [
    "import glob\n",
    "import os"
   ]
  },
  {
   "cell_type": "code",
   "execution_count": 317,
   "metadata": {
    "collapsed": true
   },
   "outputs": [],
   "source": [
    "# import hourly data exports and create a single data frame\n",
    "path = 'data/'\n",
    "allFiles = glob.glob(path + \"/rescuetime-hourly*.csv\")\n",
    "timelogs = pd.DataFrame()\n",
    "list_ = []\n",
    "for file_ in allFiles:\n",
    "    df = pd.read_csv(file_,index_col=None, header=0)\n",
    "    list_.append(df)\n",
    "activities = pd.concat(list_)"
   ]
  },
  {
   "cell_type": "code",
   "execution_count": 318,
   "metadata": {},
   "outputs": [
    {
     "data": {
      "text/plain": [
       "689193"
      ]
     },
     "execution_count": 318,
     "metadata": {},
     "output_type": "execute_result"
    }
   ],
   "source": [
    "len(activities) # 312477"
   ]
  },
  {
   "cell_type": "code",
   "execution_count": 319,
   "metadata": {},
   "outputs": [
    {
     "data": {
      "text/plain": [
       "12194.12361111111"
      ]
     },
     "execution_count": 319,
     "metadata": {},
     "output_type": "execute_result"
    }
   ],
   "source": [
    "# total hours\n",
    "activities.Seconds.sum() / 60 / 60"
   ]
  },
  {
   "cell_type": "code",
   "execution_count": 325,
   "metadata": {},
   "outputs": [
    {
     "data": {
      "text/plain": [
       "508.08848379629626"
      ]
     },
     "execution_count": 325,
     "metadata": {},
     "output_type": "execute_result"
    }
   ],
   "source": [
    "# total days\n",
    "activities.Seconds.sum() / 60 / 60 / 24"
   ]
  },
  {
   "cell_type": "code",
   "execution_count": 320,
   "metadata": {},
   "outputs": [
    {
     "data": {
      "text/html": [
       "<div>\n",
       "<style>\n",
       "    .dataframe thead tr:only-child th {\n",
       "        text-align: right;\n",
       "    }\n",
       "\n",
       "    .dataframe thead th {\n",
       "        text-align: left;\n",
       "    }\n",
       "\n",
       "    .dataframe tbody tr th {\n",
       "        vertical-align: top;\n",
       "    }\n",
       "</style>\n",
       "<table border=\"1\" class=\"dataframe\">\n",
       "  <thead>\n",
       "    <tr style=\"text-align: right;\">\n",
       "      <th></th>\n",
       "      <th>Unnamed: 0</th>\n",
       "      <th>Date</th>\n",
       "      <th>Seconds</th>\n",
       "      <th>NumberPeople</th>\n",
       "      <th>Actitivity</th>\n",
       "      <th>Document</th>\n",
       "      <th>Category</th>\n",
       "      <th>Productivity</th>\n",
       "    </tr>\n",
       "  </thead>\n",
       "  <tbody>\n",
       "    <tr>\n",
       "      <th>0</th>\n",
       "      <td>0</td>\n",
       "      <td>2012-08-15T00:00:00</td>\n",
       "      <td>1033</td>\n",
       "      <td>1</td>\n",
       "      <td>Skype</td>\n",
       "      <td>Skype</td>\n",
       "      <td>Instant Message</td>\n",
       "      <td>0</td>\n",
       "    </tr>\n",
       "    <tr>\n",
       "      <th>1</th>\n",
       "      <td>1</td>\n",
       "      <td>2012-08-15T00:00:00</td>\n",
       "      <td>524</td>\n",
       "      <td>1</td>\n",
       "      <td>iTerm</td>\n",
       "      <td>1. ssh</td>\n",
       "      <td>Systems Operations</td>\n",
       "      <td>2</td>\n",
       "    </tr>\n",
       "    <tr>\n",
       "      <th>2</th>\n",
       "      <td>2</td>\n",
       "      <td>2012-08-15T00:00:00</td>\n",
       "      <td>372</td>\n",
       "      <td>1</td>\n",
       "      <td>projects.int3c.com</td>\n",
       "      <td>No Details</td>\n",
       "      <td>Project Management</td>\n",
       "      <td>2</td>\n",
       "    </tr>\n",
       "    <tr>\n",
       "      <th>3</th>\n",
       "      <td>3</td>\n",
       "      <td>2012-08-15T00:00:00</td>\n",
       "      <td>319</td>\n",
       "      <td>1</td>\n",
       "      <td>course-notes.org</td>\n",
       "      <td>No Details</td>\n",
       "      <td>General Software Development</td>\n",
       "      <td>2</td>\n",
       "    </tr>\n",
       "    <tr>\n",
       "      <th>4</th>\n",
       "      <td>4</td>\n",
       "      <td>2012-08-15T00:00:00</td>\n",
       "      <td>215</td>\n",
       "      <td>1</td>\n",
       "      <td>TextMate</td>\n",
       "      <td>untitled 84</td>\n",
       "      <td>Editing &amp; IDEs</td>\n",
       "      <td>2</td>\n",
       "    </tr>\n",
       "  </tbody>\n",
       "</table>\n",
       "</div>"
      ],
      "text/plain": [
       "   Unnamed: 0                 Date  Seconds  NumberPeople          Actitivity  \\\n",
       "0           0  2012-08-15T00:00:00     1033             1               Skype   \n",
       "1           1  2012-08-15T00:00:00      524             1               iTerm   \n",
       "2           2  2012-08-15T00:00:00      372             1  projects.int3c.com   \n",
       "3           3  2012-08-15T00:00:00      319             1    course-notes.org   \n",
       "4           4  2012-08-15T00:00:00      215             1            TextMate   \n",
       "\n",
       "      Document                      Category  Productivity  \n",
       "0        Skype               Instant Message             0  \n",
       "1       1. ssh            Systems Operations             2  \n",
       "2   No Details            Project Management             2  \n",
       "3   No Details  General Software Development             2  \n",
       "4  untitled 84                Editing & IDEs             2  "
      ]
     },
     "execution_count": 320,
     "metadata": {},
     "output_type": "execute_result"
    }
   ],
   "source": [
    "activities.head()"
   ]
  },
  {
   "cell_type": "code",
   "execution_count": 321,
   "metadata": {},
   "outputs": [
    {
     "name": "stdout",
     "output_type": "stream",
     "text": [
      "<class 'pandas.core.frame.DataFrame'>\n",
      "Int64Index: 689193 entries, 0 to 131879\n",
      "Data columns (total 8 columns):\n",
      "Unnamed: 0      689193 non-null int64\n",
      "Date            689193 non-null object\n",
      "Seconds         689193 non-null int64\n",
      "NumberPeople    689193 non-null int64\n",
      "Actitivity      689193 non-null object\n",
      "Document        689183 non-null object\n",
      "Category        689193 non-null object\n",
      "Productivity    689193 non-null int64\n",
      "dtypes: int64(4), object(4)\n",
      "memory usage: 47.3+ MB\n"
     ]
    }
   ],
   "source": [
    "activities.info()"
   ]
  },
  {
   "cell_type": "code",
   "execution_count": 322,
   "metadata": {},
   "outputs": [
    {
     "data": {
      "text/html": [
       "<div>\n",
       "<style>\n",
       "    .dataframe thead tr:only-child th {\n",
       "        text-align: right;\n",
       "    }\n",
       "\n",
       "    .dataframe thead th {\n",
       "        text-align: left;\n",
       "    }\n",
       "\n",
       "    .dataframe tbody tr th {\n",
       "        vertical-align: top;\n",
       "    }\n",
       "</style>\n",
       "<table border=\"1\" class=\"dataframe\">\n",
       "  <thead>\n",
       "    <tr style=\"text-align: right;\">\n",
       "      <th></th>\n",
       "      <th>Unnamed: 0</th>\n",
       "      <th>Seconds</th>\n",
       "      <th>NumberPeople</th>\n",
       "      <th>Productivity</th>\n",
       "    </tr>\n",
       "  </thead>\n",
       "  <tbody>\n",
       "    <tr>\n",
       "      <th>count</th>\n",
       "      <td>689193.000000</td>\n",
       "      <td>689193.000000</td>\n",
       "      <td>689193.0</td>\n",
       "      <td>689193.000000</td>\n",
       "    </tr>\n",
       "    <tr>\n",
       "      <th>mean</th>\n",
       "      <td>61140.872689</td>\n",
       "      <td>63.696011</td>\n",
       "      <td>1.0</td>\n",
       "      <td>0.818431</td>\n",
       "    </tr>\n",
       "    <tr>\n",
       "      <th>std</th>\n",
       "      <td>37237.128353</td>\n",
       "      <td>195.538838</td>\n",
       "      <td>0.0</td>\n",
       "      <td>1.303200</td>\n",
       "    </tr>\n",
       "    <tr>\n",
       "      <th>min</th>\n",
       "      <td>0.000000</td>\n",
       "      <td>1.000000</td>\n",
       "      <td>1.0</td>\n",
       "      <td>-2.000000</td>\n",
       "    </tr>\n",
       "    <tr>\n",
       "      <th>25%</th>\n",
       "      <td>28716.000000</td>\n",
       "      <td>2.000000</td>\n",
       "      <td>1.0</td>\n",
       "      <td>0.000000</td>\n",
       "    </tr>\n",
       "    <tr>\n",
       "      <th>50%</th>\n",
       "      <td>58908.000000</td>\n",
       "      <td>10.000000</td>\n",
       "      <td>1.0</td>\n",
       "      <td>1.000000</td>\n",
       "    </tr>\n",
       "    <tr>\n",
       "      <th>75%</th>\n",
       "      <td>93368.000000</td>\n",
       "      <td>40.000000</td>\n",
       "      <td>1.0</td>\n",
       "      <td>2.000000</td>\n",
       "    </tr>\n",
       "    <tr>\n",
       "      <th>max</th>\n",
       "      <td>131879.000000</td>\n",
       "      <td>7428.000000</td>\n",
       "      <td>1.0</td>\n",
       "      <td>2.000000</td>\n",
       "    </tr>\n",
       "  </tbody>\n",
       "</table>\n",
       "</div>"
      ],
      "text/plain": [
       "          Unnamed: 0        Seconds  NumberPeople   Productivity\n",
       "count  689193.000000  689193.000000      689193.0  689193.000000\n",
       "mean    61140.872689      63.696011           1.0       0.818431\n",
       "std     37237.128353     195.538838           0.0       1.303200\n",
       "min         0.000000       1.000000           1.0      -2.000000\n",
       "25%     28716.000000       2.000000           1.0       0.000000\n",
       "50%     58908.000000      10.000000           1.0       1.000000\n",
       "75%     93368.000000      40.000000           1.0       2.000000\n",
       "max    131879.000000    7428.000000           1.0       2.000000"
      ]
     },
     "execution_count": 322,
     "metadata": {},
     "output_type": "execute_result"
    }
   ],
   "source": [
    "activities.describe()"
   ]
  },
  {
   "cell_type": "code",
   "execution_count": 323,
   "metadata": {
    "collapsed": true
   },
   "outputs": [],
   "source": [
    "# create columns for year, month, day, and dow"
   ]
  },
  {
   "cell_type": "code",
   "execution_count": 324,
   "metadata": {},
   "outputs": [],
   "source": [
    "# pivot table \n",
    "# activities.pivot(index='date', columns='Category', values='seconds')\n",
    "# temp.pivot(columns='Category', values='Seconds')"
   ]
  },
  {
   "cell_type": "code",
   "execution_count": null,
   "metadata": {},
   "outputs": [],
   "source": []
  },
  {
   "cell_type": "code",
   "execution_count": null,
   "metadata": {
    "collapsed": true
   },
   "outputs": [],
   "source": []
  }
 ],
 "metadata": {
  "kernelspec": {
   "display_name": "Python 3",
   "language": "python",
   "name": "python3"
  },
  "language_info": {
   "codemirror_mode": {
    "name": "ipython",
    "version": 3
   },
   "file_extension": ".py",
   "mimetype": "text/x-python",
   "name": "python",
   "nbconvert_exporter": "python",
   "pygments_lexer": "ipython3",
   "version": "3.6.2"
  }
 },
 "nbformat": 4,
 "nbformat_minor": 2
}
