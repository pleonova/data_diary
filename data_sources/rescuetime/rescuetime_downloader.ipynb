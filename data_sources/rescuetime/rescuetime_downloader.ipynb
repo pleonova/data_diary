{
 "cells": [
  {
   "cell_type": "markdown",
   "metadata": {},
   "source": [
    "# RescueTime Downloader"
   ]
  },
  {
   "cell_type": "markdown",
   "metadata": {},
   "source": [
    "Code to collect and export RescueTime Activity Logs, includes options to collect in hourly or minute bins. Default is hourly.\n",
    "\n",
    "**NOTE:** Collecting Full History takes some time, depending how many years of data you have. I recommend you configure the script below to pull data in yearly chunks, though it should work if you attempt to export full history. "
   ]
  },
  {
   "cell_type": "markdown",
   "metadata": {},
   "source": [
    "------"
   ]
  },
  {
   "cell_type": "markdown",
   "metadata": {},
   "source": [
    "## Setup and Installation"
   ]
  },
  {
   "cell_type": "markdown",
   "metadata": {},
   "source": [
    "* Go to [RescueTime API](https://www.rescuetime.com/anapi/manage) and copy an API Key \n",
    "* Copy credentials-sample.json to create credentials.json and add your RescueTime Key.\n",
    "* This project depends on no additional code besides standard python libraries and Pandas. "
   ]
  },
  {
   "cell_type": "markdown",
   "metadata": {},
   "source": [
    "-----"
   ]
  },
  {
   "cell_type": "markdown",
   "metadata": {},
   "source": [
    "## Dependencies"
   ]
  },
  {
   "cell_type": "code",
   "execution_count": 1,
   "metadata": {
    "collapsed": true
   },
   "outputs": [],
   "source": [
    "import requests\n",
    "import os\n",
    "from datetime import date, datetime, timedelta as td\n",
    "import pandas as pd"
   ]
  },
  {
   "cell_type": "markdown",
   "metadata": {},
   "source": [
    "----"
   ]
  },
  {
   "cell_type": "markdown",
   "metadata": {},
   "source": [
    "## Credentials"
   ]
  },
  {
   "cell_type": "code",
   "execution_count": 2,
   "metadata": {},
   "outputs": [],
   "source": [
    "import json\n",
    "\n",
    "with open(\"credentials.json\", \"r\") as file:\n",
    "    credentials = json.load(file)\n",
    "    rescuetime_cr = credentials['rescuetime']\n",
    "    KEY = rescuetime_cr['KEY']"
   ]
  },
  {
   "cell_type": "code",
   "execution_count": 3,
   "metadata": {
    "collapsed": true
   },
   "outputs": [],
   "source": [
    "baseurl = 'https://www.rescuetime.com/anapi/data?key='"
   ]
  },
  {
   "cell_type": "code",
   "execution_count": 4,
   "metadata": {
    "collapsed": true
   },
   "outputs": [],
   "source": [
    "url =  baseurl + KEY"
   ]
  },
  {
   "cell_type": "markdown",
   "metadata": {},
   "source": [
    "----"
   ]
  },
  {
   "cell_type": "markdown",
   "metadata": {},
   "source": [
    "## Export Dates Configuration"
   ]
  },
  {
   "cell_type": "code",
   "execution_count": 5,
   "metadata": {},
   "outputs": [],
   "source": [
    "# Configure These to Your Preferred Dates\n",
    "start_date = '2019-06-29'  # Start date for data\n",
    "end_date   = '2019-07-08'  # End date for data"
   ]
  },
  {
   "cell_type": "markdown",
   "metadata": {},
   "source": [
    "------"
   ]
  },
  {
   "cell_type": "markdown",
   "metadata": {},
   "source": [
    "## Function to Get RescueTime Activities"
   ]
  },
  {
   "cell_type": "code",
   "execution_count": 6,
   "metadata": {
    "collapsed": true
   },
   "outputs": [],
   "source": [
    "# Adjustable by Time Period\n",
    "def rescuetime_get_activities(start_date, end_date, resolution='hour'):\n",
    "    # Configuration for Query\n",
    "    # SEE: https://www.rescuetime.com/apidoc\n",
    "    payload = {\n",
    "        'perspective':'interval',\n",
    "        'resolution_time': resolution, #1 of \"month\", \"week\", \"day\", \"hour\", \"minute\"\n",
    "        'restrict_kind':'overview', #'document',\n",
    "        'restrict_begin': start_date,\n",
    "        'restrict_end': end_date,\n",
    "        'format':'json' #csv\n",
    "    }\n",
    "    \n",
    "    # Setup Iteration - by Day\n",
    "    d1 = datetime.strptime(payload['restrict_begin'], \"%Y-%m-%d\").date()\n",
    "    d2 = datetime.strptime(payload['restrict_end'], \"%Y-%m-%d\").date()\n",
    "    delta = d2 - d1\n",
    "    \n",
    "    activities_list = []\n",
    "        \n",
    "    # Iterate through the days, making a request per day\n",
    "    for i in range(delta.days + 1):\n",
    "        # Find iter date and set begin and end values to this to extract at once.\n",
    "        d3 = d1 + td(days=i) # Add a day\n",
    "        if d3.day == 1: print('Pulling Monthly Data for ', d3)\n",
    "\n",
    "        # Update the Payload\n",
    "        payload['restrict_begin'] = str(d3) # Set payload days to current\n",
    "        payload['restrict_end'] = str(d3)   # Set payload days to current\n",
    "\n",
    "        # Request\n",
    "        try: \n",
    "            r = requests.get(url, payload) # Make Request\n",
    "            iter_result = r.json() # Parse result\n",
    "            # print(\"Collecting Activities for \" + str(d3))\n",
    "        except: \n",
    "            print(\"Error collecting data for \" + str(d3))\n",
    "    \n",
    "        for i in iter_result['rows']:\n",
    "            activities_list.append(i)\n",
    "            \n",
    "    return activities_list"
   ]
  },
  {
   "cell_type": "markdown",
   "metadata": {},
   "source": [
    "---"
   ]
  },
  {
   "cell_type": "markdown",
   "metadata": {},
   "source": [
    "## Collect Report of Activites By Minute"
   ]
  },
  {
   "cell_type": "code",
   "execution_count": 50,
   "metadata": {},
   "outputs": [
    {
     "name": "stdout",
     "output_type": "stream",
     "text": [
      "Pulling Monthly Data for  2019-07-01\n"
     ]
    }
   ],
   "source": [
    "activities_minute_log = rescuetime_get_activities(start_date, end_date, 'minute')"
   ]
  },
  {
   "cell_type": "code",
   "execution_count": 51,
   "metadata": {
    "collapsed": true
   },
   "outputs": [],
   "source": [
    "activities_per_minute = pd.DataFrame.from_dict(activities_minute_log)"
   ]
  },
  {
   "cell_type": "code",
   "execution_count": 52,
   "metadata": {},
   "outputs": [
    {
     "data": {
      "text/html": [
       "<div>\n",
       "<style scoped>\n",
       "    .dataframe tbody tr th:only-of-type {\n",
       "        vertical-align: middle;\n",
       "    }\n",
       "\n",
       "    .dataframe tbody tr th {\n",
       "        vertical-align: top;\n",
       "    }\n",
       "\n",
       "    .dataframe thead th {\n",
       "        text-align: right;\n",
       "    }\n",
       "</style>\n",
       "<table border=\"1\" class=\"dataframe\">\n",
       "  <thead>\n",
       "    <tr style=\"text-align: right;\">\n",
       "      <th></th>\n",
       "      <th>0</th>\n",
       "      <th>1</th>\n",
       "      <th>2</th>\n",
       "      <th>3</th>\n",
       "    </tr>\n",
       "  </thead>\n",
       "  <tbody>\n",
       "    <tr>\n",
       "      <th>0</th>\n",
       "      <td>2019-06-29T07:20:00</td>\n",
       "      <td>124</td>\n",
       "      <td>1</td>\n",
       "      <td>Utilities</td>\n",
       "    </tr>\n",
       "    <tr>\n",
       "      <th>1</th>\n",
       "      <td>2019-06-29T07:20:00</td>\n",
       "      <td>58</td>\n",
       "      <td>1</td>\n",
       "      <td>Uncategorized</td>\n",
       "    </tr>\n",
       "    <tr>\n",
       "      <th>2</th>\n",
       "      <td>2019-06-29T07:20:00</td>\n",
       "      <td>37</td>\n",
       "      <td>1</td>\n",
       "      <td>Software Development</td>\n",
       "    </tr>\n",
       "    <tr>\n",
       "      <th>3</th>\n",
       "      <td>2019-06-29T07:25:00</td>\n",
       "      <td>295</td>\n",
       "      <td>1</td>\n",
       "      <td>Software Development</td>\n",
       "    </tr>\n",
       "    <tr>\n",
       "      <th>4</th>\n",
       "      <td>2019-06-29T07:25:00</td>\n",
       "      <td>5</td>\n",
       "      <td>1</td>\n",
       "      <td>Utilities</td>\n",
       "    </tr>\n",
       "  </tbody>\n",
       "</table>\n",
       "</div>"
      ],
      "text/plain": [
       "                     0    1  2                     3\n",
       "0  2019-06-29T07:20:00  124  1             Utilities\n",
       "1  2019-06-29T07:20:00   58  1         Uncategorized\n",
       "2  2019-06-29T07:20:00   37  1  Software Development\n",
       "3  2019-06-29T07:25:00  295  1  Software Development\n",
       "4  2019-06-29T07:25:00    5  1             Utilities"
      ]
     },
     "execution_count": 52,
     "metadata": {},
     "output_type": "execute_result"
    }
   ],
   "source": [
    "activities_per_minute.head()"
   ]
  },
  {
   "cell_type": "code",
   "execution_count": 53,
   "metadata": {
    "collapsed": true
   },
   "outputs": [],
   "source": [
    "# 'restrict_kind':'overview', #'document',\n",
    "# activities_per_minute.columns = ['Date', 'Seconds', 'NumberPeople', 'Activity', 'Document', 'Category', 'Productivity']\n",
    "\n",
    "# 'restrict_kind':'overview'\n",
    "activities_per_minute.columns = ['Date', 'Seconds', 'NumberPeople', 'Overview']\n"
   ]
  },
  {
   "cell_type": "code",
   "execution_count": 54,
   "metadata": {},
   "outputs": [
    {
     "data": {
      "text/plain": [
       "Date            datetime64[ns]\n",
       "Seconds                  int64\n",
       "NumberPeople             int64\n",
       "Overview                object\n",
       "dtype: object"
      ]
     },
     "execution_count": 54,
     "metadata": {},
     "output_type": "execute_result"
    }
   ],
   "source": [
    "activities_per_minute['Date'] = pd.to_datetime(activities_per_minute['Date'])\n",
    "activities_per_minute.dtypes"
   ]
  },
  {
   "cell_type": "code",
   "execution_count": 55,
   "metadata": {},
   "outputs": [
    {
     "data": {
      "text/html": [
       "<div>\n",
       "<style scoped>\n",
       "    .dataframe tbody tr th:only-of-type {\n",
       "        vertical-align: middle;\n",
       "    }\n",
       "\n",
       "    .dataframe tbody tr th {\n",
       "        vertical-align: top;\n",
       "    }\n",
       "\n",
       "    .dataframe thead th {\n",
       "        text-align: right;\n",
       "    }\n",
       "</style>\n",
       "<table border=\"1\" class=\"dataframe\">\n",
       "  <thead>\n",
       "    <tr style=\"text-align: right;\">\n",
       "      <th></th>\n",
       "      <th>Date</th>\n",
       "      <th>Seconds</th>\n",
       "      <th>NumberPeople</th>\n",
       "      <th>Overview</th>\n",
       "    </tr>\n",
       "  </thead>\n",
       "  <tbody>\n",
       "    <tr>\n",
       "      <th>2368</th>\n",
       "      <td>2019-07-07 18:05:00</td>\n",
       "      <td>68</td>\n",
       "      <td>1</td>\n",
       "      <td>Communication &amp; Scheduling</td>\n",
       "    </tr>\n",
       "    <tr>\n",
       "      <th>2367</th>\n",
       "      <td>2019-07-07 18:05:00</td>\n",
       "      <td>178</td>\n",
       "      <td>1</td>\n",
       "      <td>Software Development</td>\n",
       "    </tr>\n",
       "    <tr>\n",
       "      <th>2366</th>\n",
       "      <td>2019-07-07 18:00:00</td>\n",
       "      <td>5</td>\n",
       "      <td>1</td>\n",
       "      <td>Reference &amp; Learning</td>\n",
       "    </tr>\n",
       "    <tr>\n",
       "      <th>2365</th>\n",
       "      <td>2019-07-07 18:00:00</td>\n",
       "      <td>62</td>\n",
       "      <td>1</td>\n",
       "      <td>Communication &amp; Scheduling</td>\n",
       "    </tr>\n",
       "    <tr>\n",
       "      <th>2364</th>\n",
       "      <td>2019-07-07 18:00:00</td>\n",
       "      <td>293</td>\n",
       "      <td>1</td>\n",
       "      <td>Software Development</td>\n",
       "    </tr>\n",
       "  </tbody>\n",
       "</table>\n",
       "</div>"
      ],
      "text/plain": [
       "                    Date  Seconds  NumberPeople                    Overview\n",
       "2368 2019-07-07 18:05:00       68             1  Communication & Scheduling\n",
       "2367 2019-07-07 18:05:00      178             1        Software Development\n",
       "2366 2019-07-07 18:00:00        5             1        Reference & Learning\n",
       "2365 2019-07-07 18:00:00       62             1  Communication & Scheduling\n",
       "2364 2019-07-07 18:00:00      293             1        Software Development"
      ]
     },
     "execution_count": 55,
     "metadata": {},
     "output_type": "execute_result"
    }
   ],
   "source": [
    "activities_per_minute.sort_values('Date', ascending = False).head()"
   ]
  },
  {
   "cell_type": "markdown",
   "metadata": {},
   "source": [
    "# Data Prep"
   ]
  },
  {
   "cell_type": "code",
   "execution_count": 69,
   "metadata": {},
   "outputs": [],
   "source": [
    "# Dataframe Minimum Requirement: Start Date, End Date, and Category\n",
    "data = activities_per_minute.copy()\n",
    "\n",
    "data['Seconds Sum Per 5Min'] = data.groupby(['Date'])['Seconds'].apply(lambda x: x.cumsum())\n",
    "\n",
    "data['Date End'] = data['Date'] + pd.to_timedelta(data['Seconds Sum Per 5Min'], unit='s')\n",
    "data['Date Start'] = data['Date End'] - pd.to_timedelta(data['Seconds'], unit='s')\n",
    "\n",
    "data['Date Abr'] = data['Date'].dt.date\n"
   ]
  },
  {
   "cell_type": "code",
   "execution_count": 70,
   "metadata": {},
   "outputs": [
    {
     "data": {
      "text/html": [
       "<div>\n",
       "<style scoped>\n",
       "    .dataframe tbody tr th:only-of-type {\n",
       "        vertical-align: middle;\n",
       "    }\n",
       "\n",
       "    .dataframe tbody tr th {\n",
       "        vertical-align: top;\n",
       "    }\n",
       "\n",
       "    .dataframe thead th {\n",
       "        text-align: right;\n",
       "    }\n",
       "</style>\n",
       "<table border=\"1\" class=\"dataframe\">\n",
       "  <thead>\n",
       "    <tr style=\"text-align: right;\">\n",
       "      <th></th>\n",
       "      <th>Date</th>\n",
       "      <th>Seconds</th>\n",
       "      <th>NumberPeople</th>\n",
       "      <th>Overview</th>\n",
       "      <th>Seconds Sum Per 5Min</th>\n",
       "      <th>Date End</th>\n",
       "      <th>Date Start</th>\n",
       "      <th>Date Abr</th>\n",
       "    </tr>\n",
       "  </thead>\n",
       "  <tbody>\n",
       "    <tr>\n",
       "      <th>2368</th>\n",
       "      <td>2019-07-07 18:05:00</td>\n",
       "      <td>68</td>\n",
       "      <td>1</td>\n",
       "      <td>Communication &amp; Scheduling</td>\n",
       "      <td>246</td>\n",
       "      <td>2019-07-07 18:09:06</td>\n",
       "      <td>2019-07-07 18:07:58</td>\n",
       "      <td>2019-07-07</td>\n",
       "    </tr>\n",
       "    <tr>\n",
       "      <th>2367</th>\n",
       "      <td>2019-07-07 18:05:00</td>\n",
       "      <td>178</td>\n",
       "      <td>1</td>\n",
       "      <td>Software Development</td>\n",
       "      <td>178</td>\n",
       "      <td>2019-07-07 18:07:58</td>\n",
       "      <td>2019-07-07 18:05:00</td>\n",
       "      <td>2019-07-07</td>\n",
       "    </tr>\n",
       "    <tr>\n",
       "      <th>2366</th>\n",
       "      <td>2019-07-07 18:00:00</td>\n",
       "      <td>5</td>\n",
       "      <td>1</td>\n",
       "      <td>Reference &amp; Learning</td>\n",
       "      <td>360</td>\n",
       "      <td>2019-07-07 18:06:00</td>\n",
       "      <td>2019-07-07 18:05:55</td>\n",
       "      <td>2019-07-07</td>\n",
       "    </tr>\n",
       "    <tr>\n",
       "      <th>2365</th>\n",
       "      <td>2019-07-07 18:00:00</td>\n",
       "      <td>62</td>\n",
       "      <td>1</td>\n",
       "      <td>Communication &amp; Scheduling</td>\n",
       "      <td>355</td>\n",
       "      <td>2019-07-07 18:05:55</td>\n",
       "      <td>2019-07-07 18:04:53</td>\n",
       "      <td>2019-07-07</td>\n",
       "    </tr>\n",
       "    <tr>\n",
       "      <th>2364</th>\n",
       "      <td>2019-07-07 18:00:00</td>\n",
       "      <td>293</td>\n",
       "      <td>1</td>\n",
       "      <td>Software Development</td>\n",
       "      <td>293</td>\n",
       "      <td>2019-07-07 18:04:53</td>\n",
       "      <td>2019-07-07 18:00:00</td>\n",
       "      <td>2019-07-07</td>\n",
       "    </tr>\n",
       "    <tr>\n",
       "      <th>2362</th>\n",
       "      <td>2019-07-07 17:55:00</td>\n",
       "      <td>19</td>\n",
       "      <td>1</td>\n",
       "      <td>Design &amp; Composition</td>\n",
       "      <td>372</td>\n",
       "      <td>2019-07-07 18:01:12</td>\n",
       "      <td>2019-07-07 18:00:53</td>\n",
       "      <td>2019-07-07</td>\n",
       "    </tr>\n",
       "    <tr>\n",
       "      <th>2360</th>\n",
       "      <td>2019-07-07 17:55:00</td>\n",
       "      <td>281</td>\n",
       "      <td>1</td>\n",
       "      <td>Software Development</td>\n",
       "      <td>281</td>\n",
       "      <td>2019-07-07 17:59:41</td>\n",
       "      <td>2019-07-07 17:55:00</td>\n",
       "      <td>2019-07-07</td>\n",
       "    </tr>\n",
       "    <tr>\n",
       "      <th>2361</th>\n",
       "      <td>2019-07-07 17:55:00</td>\n",
       "      <td>72</td>\n",
       "      <td>1</td>\n",
       "      <td>Communication &amp; Scheduling</td>\n",
       "      <td>353</td>\n",
       "      <td>2019-07-07 18:00:53</td>\n",
       "      <td>2019-07-07 17:59:41</td>\n",
       "      <td>2019-07-07</td>\n",
       "    </tr>\n",
       "    <tr>\n",
       "      <th>2363</th>\n",
       "      <td>2019-07-07 17:55:00</td>\n",
       "      <td>2</td>\n",
       "      <td>1</td>\n",
       "      <td>Utilities</td>\n",
       "      <td>374</td>\n",
       "      <td>2019-07-07 18:01:14</td>\n",
       "      <td>2019-07-07 18:01:12</td>\n",
       "      <td>2019-07-07</td>\n",
       "    </tr>\n",
       "    <tr>\n",
       "      <th>2359</th>\n",
       "      <td>2019-07-07 17:50:00</td>\n",
       "      <td>39</td>\n",
       "      <td>1</td>\n",
       "      <td>Communication &amp; Scheduling</td>\n",
       "      <td>400</td>\n",
       "      <td>2019-07-07 17:56:40</td>\n",
       "      <td>2019-07-07 17:56:01</td>\n",
       "      <td>2019-07-07</td>\n",
       "    </tr>\n",
       "  </tbody>\n",
       "</table>\n",
       "</div>"
      ],
      "text/plain": [
       "                    Date  Seconds  NumberPeople                    Overview  \\\n",
       "2368 2019-07-07 18:05:00       68             1  Communication & Scheduling   \n",
       "2367 2019-07-07 18:05:00      178             1        Software Development   \n",
       "2366 2019-07-07 18:00:00        5             1        Reference & Learning   \n",
       "2365 2019-07-07 18:00:00       62             1  Communication & Scheduling   \n",
       "2364 2019-07-07 18:00:00      293             1        Software Development   \n",
       "2362 2019-07-07 17:55:00       19             1        Design & Composition   \n",
       "2360 2019-07-07 17:55:00      281             1        Software Development   \n",
       "2361 2019-07-07 17:55:00       72             1  Communication & Scheduling   \n",
       "2363 2019-07-07 17:55:00        2             1                   Utilities   \n",
       "2359 2019-07-07 17:50:00       39             1  Communication & Scheduling   \n",
       "\n",
       "      Seconds Sum Per 5Min            Date End          Date Start    Date Abr  \n",
       "2368                   246 2019-07-07 18:09:06 2019-07-07 18:07:58  2019-07-07  \n",
       "2367                   178 2019-07-07 18:07:58 2019-07-07 18:05:00  2019-07-07  \n",
       "2366                   360 2019-07-07 18:06:00 2019-07-07 18:05:55  2019-07-07  \n",
       "2365                   355 2019-07-07 18:05:55 2019-07-07 18:04:53  2019-07-07  \n",
       "2364                   293 2019-07-07 18:04:53 2019-07-07 18:00:00  2019-07-07  \n",
       "2362                   372 2019-07-07 18:01:12 2019-07-07 18:00:53  2019-07-07  \n",
       "2360                   281 2019-07-07 17:59:41 2019-07-07 17:55:00  2019-07-07  \n",
       "2361                   353 2019-07-07 18:00:53 2019-07-07 17:59:41  2019-07-07  \n",
       "2363                   374 2019-07-07 18:01:14 2019-07-07 18:01:12  2019-07-07  \n",
       "2359                   400 2019-07-07 17:56:40 2019-07-07 17:56:01  2019-07-07  "
      ]
     },
     "execution_count": 70,
     "metadata": {},
     "output_type": "execute_result"
    }
   ],
   "source": [
    "data.sort_values('Date', ascending = False).head(10)"
   ]
  },
  {
   "cell_type": "code",
   "execution_count": 71,
   "metadata": {},
   "outputs": [],
   "source": [
    "# Minimum Requirement: Start Date, End Date, and Category\n",
    "df = data\n",
    "\n",
    "### Step 0: Set Up Variables\n",
    "start_date = '2019-06-29'  # Start date for data\n",
    "end_date   = '2019-07-08'  # End date for data\n",
    "\n",
    "# General Column Variable Names\n",
    "start_date_column = 'Date Start'\n",
    "end_date_column = 'Date End'\n",
    "category_column = 'Overview' "
   ]
  },
  {
   "cell_type": "code",
   "execution_count": 72,
   "metadata": {},
   "outputs": [],
   "source": [
    "### Step 1: Find Data Gaps\n",
    "# Create a temporary dataframe of the end dates\n",
    "df_end = df[[end_date_column]].copy()\n",
    "\n",
    "# Add a column category with the field value 'No Entry'\n",
    "df_end[category_column] = 'No Entry'\n",
    "\n",
    "# If there is no gap in data (as in there is an entry immediately following the previous),\n",
    "# remove the the record from the df_end dataframe\n",
    "start_date_pt_list = list(df[start_date_column].unique())\n",
    "df_end = df_end[~df_end[end_date_column].isin(start_date_pt_list)]\n",
    "\n",
    "\n",
    "\n",
    "### Step 2: Combine End and Start Dates into single column\n",
    "# Create a two column data frame with the start date and the category\n",
    "df_start = df[[start_date_column, category_column]].copy()\n",
    "\n",
    "# Update column names to match that of df_start\n",
    "df_end.rename(columns = {end_date_column: start_date_column}, inplace = True)\n",
    "                         \n",
    "# Add the df_end dataframe to the bottom\n",
    "df_mini_entries = pd.concat([df_start, df_end])\n",
    "\n",
    "\n",
    "\n",
    "\n",
    "### STEP 3: Expand Dataset - Every Minute\n",
    "# Create a dataframe of minute intevals between two dates   \n",
    "time_range = pd.date_range(start_date, end_date, freq= '1s')\n",
    "time_range_df = pd.DataFrame(time_range).rename(columns = {0: 'date_time'})\n",
    "\n",
    "# Convert to time\n",
    "time_range_df['date_time'] = pd.to_datetime(time_range_df['date_time'])\n",
    "\n",
    "# Replace time zone\n",
    "# time_range_df['date_time'] = [row.replace(tzinfo=from_zone).astimezone(to_zone) for row in time_range_df['date_time']]\n",
    "\n",
    "# Left Join our mini dataframe to this range \n",
    "df_minutes = pd.merge(time_range_df, df_mini_entries, how = 'left',  left_on = 'date_time', right_on = start_date_column)\n",
    "\n",
    "# Find the first date_time with a category entry\n",
    "date_of_first_entry = df_minutes[~df_minutes[category_column].isnull()]['date_time'].min()\n",
    "# Find the index of the first entry\n",
    "index_of_first_entry = df_minutes.index[df_minutes[start_date_column]==date_of_first_entry][0]\n",
    "\n",
    "# Reduce the dataframe to begin with the first entry\n",
    "df_minutes = df_minutes[index_of_first_entry:].copy()\n",
    "\n",
    "\n",
    "\n",
    "### Step 4: Categorize every minute\n",
    "# Forward fill the category until next entry\n",
    "df_minutes[category_column] = df_minutes[category_column].ffill()"
   ]
  },
  {
   "cell_type": "code",
   "execution_count": 73,
   "metadata": {},
   "outputs": [
    {
     "data": {
      "text/html": [
       "<div>\n",
       "<style scoped>\n",
       "    .dataframe tbody tr th:only-of-type {\n",
       "        vertical-align: middle;\n",
       "    }\n",
       "\n",
       "    .dataframe tbody tr th {\n",
       "        vertical-align: top;\n",
       "    }\n",
       "\n",
       "    .dataframe thead th {\n",
       "        text-align: right;\n",
       "    }\n",
       "</style>\n",
       "<table border=\"1\" class=\"dataframe\">\n",
       "  <thead>\n",
       "    <tr style=\"text-align: right;\">\n",
       "      <th></th>\n",
       "      <th>date_time</th>\n",
       "      <th>Date Start</th>\n",
       "      <th>Overview</th>\n",
       "    </tr>\n",
       "  </thead>\n",
       "  <tbody>\n",
       "    <tr>\n",
       "      <th>26400</th>\n",
       "      <td>2019-06-29 07:20:00</td>\n",
       "      <td>2019-06-29 07:20:00</td>\n",
       "      <td>Utilities</td>\n",
       "    </tr>\n",
       "    <tr>\n",
       "      <th>26401</th>\n",
       "      <td>2019-06-29 07:20:01</td>\n",
       "      <td>NaT</td>\n",
       "      <td>Utilities</td>\n",
       "    </tr>\n",
       "    <tr>\n",
       "      <th>26402</th>\n",
       "      <td>2019-06-29 07:20:02</td>\n",
       "      <td>NaT</td>\n",
       "      <td>Utilities</td>\n",
       "    </tr>\n",
       "    <tr>\n",
       "      <th>26403</th>\n",
       "      <td>2019-06-29 07:20:03</td>\n",
       "      <td>NaT</td>\n",
       "      <td>Utilities</td>\n",
       "    </tr>\n",
       "    <tr>\n",
       "      <th>26404</th>\n",
       "      <td>2019-06-29 07:20:04</td>\n",
       "      <td>NaT</td>\n",
       "      <td>Utilities</td>\n",
       "    </tr>\n",
       "  </tbody>\n",
       "</table>\n",
       "</div>"
      ],
      "text/plain": [
       "                date_time          Date Start   Overview\n",
       "26400 2019-06-29 07:20:00 2019-06-29 07:20:00  Utilities\n",
       "26401 2019-06-29 07:20:01                 NaT  Utilities\n",
       "26402 2019-06-29 07:20:02                 NaT  Utilities\n",
       "26403 2019-06-29 07:20:03                 NaT  Utilities\n",
       "26404 2019-06-29 07:20:04                 NaT  Utilities"
      ]
     },
     "execution_count": 73,
     "metadata": {},
     "output_type": "execute_result"
    }
   ],
   "source": [
    "df_minutes.head()"
   ]
  },
  {
   "cell_type": "markdown",
   "metadata": {},
   "source": [
    "# Chart Category Prep"
   ]
  },
  {
   "cell_type": "code",
   "execution_count": 74,
   "metadata": {},
   "outputs": [],
   "source": [
    "import matplotlib.mlab as mlab\n",
    "import matplotlib.pyplot as plt\n",
    "%matplotlib inline\n",
    "import seaborn as sns\n",
    "sns.set(color_codes=True)\n",
    "\n",
    "import warnings\n",
    "warnings.filterwarnings(\"ignore\")"
   ]
  },
  {
   "cell_type": "code",
   "execution_count": 75,
   "metadata": {},
   "outputs": [],
   "source": [
    "fsize = 18\n",
    "params = {\n",
    "    'legend.fontsize': fsize*0.925, \n",
    "    'axes.labelsize': fsize, \n",
    "    'axes.titlesize':fsize, \n",
    "    'xtick.labelsize':fsize, \n",
    "    'ytick.labelsize':fsize,\n",
    "    'lines.linewidth' : 3,\n",
    "    'figure.titlesize': fsize *1.2,\n",
    "    'figure.figsize' : (8,8)\n",
    "} \n",
    "plt.rcParams.update(params) \n",
    "plt.close('all') "
   ]
  },
  {
   "cell_type": "code",
   "execution_count": 76,
   "metadata": {},
   "outputs": [
    {
     "name": "stdout",
     "output_type": "stream",
     "text": [
      "20\n"
     ]
    },
    {
     "data": {
      "image/png": "[encoded data removed]",
      "text/plain": [
       "<Figure size 1440x72 with 1 Axes>"
      ]
     },
     "metadata": {},
     "output_type": "display_data"
    }
   ],
   "source": [
    "color_palette_p = [\n",
    "    '#e6194b', \n",
    "    '#52965b', \n",
    "    '#ffe119', \n",
    "    '#4363d8', \n",
    "    '#f58231',\n",
    "      \n",
    "    '#911eb4', \n",
    "    '#d1952e',\n",
    "    \"#D2D179\",\n",
    "    \"#4084BF\",\n",
    "    \"#1B503C\",\n",
    "    \n",
    "    \"#5cb569\",\n",
    "    \"#e8bca7\",\n",
    "    \"#88ccbf\",\n",
    "    '#c45748',\n",
    "    '#b7b1b0',\n",
    "    \n",
    "    '#8ba3dd',\n",
    "    '#b7a519',\n",
    "    '#b27c62',\n",
    "    '#8b88cc', \n",
    "    '#e0c8a6'\n",
    "]\n",
    "print(len(color_palette_p))\n",
    "sns.palplot(color_palette_p)\n",
    "\n",
    "# pal50 = sns.color_palette(color_palette_p, 50)\n",
    "# len(pal50)"
   ]
  },
  {
   "cell_type": "code",
   "execution_count": 77,
   "metadata": {},
   "outputs": [],
   "source": [
    "# Set up variables\n",
    "d = df_minutes\n",
    "category_column = category_column\n",
    "specified_category_entries = ['Entertainment', 'Software Development'] #, 'Social Networking']\n",
    "date_time_column = 'date_time'\n",
    "\n",
    "date_range_start = '2019-06-28'\n",
    "date_range_end = '2019-07-08'\n",
    "\n",
    "colors = color_palette_p"
   ]
  },
  {
   "cell_type": "code",
   "execution_count": 81,
   "metadata": {},
   "outputs": [],
   "source": [
    "d = d[(d[date_time_column] >= date_range_start) & (d[date_time_column] <= date_range_end)].copy()\n",
    "\n",
    "### X & Y Axis\n",
    "# x-axis time periods\n",
    "d['Date Abr'] = d['date_time'].dt.date\n",
    "\n",
    "# y-axis scaled for 24 hour period\n",
    "d['time_from_day_start'] = (d[date_time_column] - d[date_time_column].dt.normalize()).dt.total_seconds().fillna(0)/(60*60)\n",
    "\n",
    "### Colors & Categories\n",
    "category_list = list(d[category_column].unique())\n",
    "category_list_minus = category_list\n",
    "category_list_minus.remove('No Entry') \n",
    "# Zip colors\n",
    "color_pairs = dict(zip(category_list_minus, colors))\n",
    "\n",
    "# from itertools import zip_longest\n",
    "# color_pairs  = dict(zip_longest(category_list, color_palette_p, fillvalue = '#e0c8a6'))\n",
    "\n",
    "\n",
    "### Select Categories                              \n",
    "# Create a list where all but the specified entries are included\n",
    "category_list_remaining = category_list.copy()\n",
    "[category_list_remaining.remove(x) for x in specified_category_entries]\n",
    "# Convert all the not specified entries to the same color (make it easier to visually inspect for patterns)\n",
    "color_pairs.update(dict.fromkeys(category_list_remaining, '#e8e8e8'))\n",
    "\n",
    "# Add back in 'No Entry' with specified color\n",
    "color_pairs['No Entry'] = '#ffffff'\n",
    "# Ordered categories and colors\n",
    "category_list_names_ordered = [key for (key, value) in sorted(color_pairs.items())]\n",
    "color_palette = [value for (key, value) in sorted(color_pairs.items())]"
   ]
  },
  {
   "cell_type": "code",
   "execution_count": 82,
   "metadata": {},
   "outputs": [
    {
     "data": {
      "text/html": [
       "<div>\n",
       "<style scoped>\n",
       "    .dataframe tbody tr th:only-of-type {\n",
       "        vertical-align: middle;\n",
       "    }\n",
       "\n",
       "    .dataframe tbody tr th {\n",
       "        vertical-align: top;\n",
       "    }\n",
       "\n",
       "    .dataframe thead th {\n",
       "        text-align: right;\n",
       "    }\n",
       "</style>\n",
       "<table border=\"1\" class=\"dataframe\">\n",
       "  <thead>\n",
       "    <tr style=\"text-align: right;\">\n",
       "      <th></th>\n",
       "      <th>date_time</th>\n",
       "      <th>Date Start</th>\n",
       "      <th>Overview</th>\n",
       "      <th>time_from_day_start</th>\n",
       "      <th>Date Abr</th>\n",
       "    </tr>\n",
       "  </thead>\n",
       "  <tbody>\n",
       "    <tr>\n",
       "      <th>26400</th>\n",
       "      <td>2019-06-29 07:20:00</td>\n",
       "      <td>2019-06-29 07:20:00</td>\n",
       "      <td>Utilities</td>\n",
       "      <td>7.333333</td>\n",
       "      <td>2019-06-29</td>\n",
       "    </tr>\n",
       "    <tr>\n",
       "      <th>26401</th>\n",
       "      <td>2019-06-29 07:20:01</td>\n",
       "      <td>NaT</td>\n",
       "      <td>Utilities</td>\n",
       "      <td>7.333611</td>\n",
       "      <td>2019-06-29</td>\n",
       "    </tr>\n",
       "    <tr>\n",
       "      <th>26402</th>\n",
       "      <td>2019-06-29 07:20:02</td>\n",
       "      <td>NaT</td>\n",
       "      <td>Utilities</td>\n",
       "      <td>7.333889</td>\n",
       "      <td>2019-06-29</td>\n",
       "    </tr>\n",
       "    <tr>\n",
       "      <th>26403</th>\n",
       "      <td>2019-06-29 07:20:03</td>\n",
       "      <td>NaT</td>\n",
       "      <td>Utilities</td>\n",
       "      <td>7.334167</td>\n",
       "      <td>2019-06-29</td>\n",
       "    </tr>\n",
       "    <tr>\n",
       "      <th>26404</th>\n",
       "      <td>2019-06-29 07:20:04</td>\n",
       "      <td>NaT</td>\n",
       "      <td>Utilities</td>\n",
       "      <td>7.334444</td>\n",
       "      <td>2019-06-29</td>\n",
       "    </tr>\n",
       "  </tbody>\n",
       "</table>\n",
       "</div>"
      ],
      "text/plain": [
       "                date_time          Date Start   Overview  time_from_day_start  \\\n",
       "26400 2019-06-29 07:20:00 2019-06-29 07:20:00  Utilities             7.333333   \n",
       "26401 2019-06-29 07:20:01                 NaT  Utilities             7.333611   \n",
       "26402 2019-06-29 07:20:02                 NaT  Utilities             7.333889   \n",
       "26403 2019-06-29 07:20:03                 NaT  Utilities             7.334167   \n",
       "26404 2019-06-29 07:20:04                 NaT  Utilities             7.334444   \n",
       "\n",
       "         Date Abr  \n",
       "26400  2019-06-29  \n",
       "26401  2019-06-29  \n",
       "26402  2019-06-29  \n",
       "26403  2019-06-29  \n",
       "26404  2019-06-29  "
      ]
     },
     "execution_count": 82,
     "metadata": {},
     "output_type": "execute_result"
    }
   ],
   "source": [
    "d.head()"
   ]
  },
  {
   "cell_type": "markdown",
   "metadata": {},
   "source": [
    "# Chart"
   ]
  },
  {
   "cell_type": "code",
   "execution_count": 101,
   "metadata": {},
   "outputs": [
    {
     "data": {
      "image/png": "[encoded data removed]",
      "text/plain": [
       "<Figure size 576x576 with 1 Axes>"
      ]
     },
     "metadata": {},
     "output_type": "display_data"
    }
   ],
   "source": [
    "alpha_strength = .5\n",
    "\n",
    "plt.style.use('fivethirtyeight')\n",
    "\n",
    "for i in range(len(category_list)):\n",
    "    plt.scatter(d[d[category_column] == category_list_names_ordered[i]]['Date Abr'], \n",
    "            d[d[category_column] == category_list_names_ordered[i]]['time_from_day_start'], \n",
    "            s = 2000,\n",
    "            c=color_palette[i],\n",
    "#             alpha=alpha_strength,\n",
    "            marker = '_',\n",
    "            )\n",
    "plt.xticks(rotation=90)\n",
    "plt.xlim(date_range_start, date_range_end)\n",
    "\n",
    "\n",
    "plt.legend(category_list_names_ordered, bbox_to_anchor=(1.4,0.5), loc=\"center\")\n",
    "plt.ylabel('Hours')\n",
    "plt.gca().invert_yaxis()\n",
    "plt.xlabel('Date')\n",
    "plt.title('Total Time Spent Per ' + category_column)\n",
    "plt.show()"
   ]
  },
  {
   "cell_type": "markdown",
   "metadata": {},
   "source": [
    "## Stacked Plot"
   ]
  },
  {
   "cell_type": "code",
   "execution_count": 84,
   "metadata": {},
   "outputs": [],
   "source": [
    "import numpy as np\n"
   ]
  },
  {
   "cell_type": "code",
   "execution_count": null,
   "metadata": {},
   "outputs": [],
   "source": [
    "[]"
   ]
  },
  {
   "cell_type": "code",
   "execution_count": 85,
   "metadata": {},
   "outputs": [
    {
     "data": {
      "text/html": [
       "<div>\n",
       "<style scoped>\n",
       "    .dataframe tbody tr th:only-of-type {\n",
       "        vertical-align: middle;\n",
       "    }\n",
       "\n",
       "    .dataframe tbody tr th {\n",
       "        vertical-align: top;\n",
       "    }\n",
       "\n",
       "    .dataframe thead th {\n",
       "        text-align: right;\n",
       "    }\n",
       "</style>\n",
       "<table border=\"1\" class=\"dataframe\">\n",
       "  <thead>\n",
       "    <tr style=\"text-align: right;\">\n",
       "      <th></th>\n",
       "      <th>Date</th>\n",
       "      <th>Seconds</th>\n",
       "      <th>NumberPeople</th>\n",
       "      <th>Overview</th>\n",
       "      <th>Seconds Sum Per 5Min</th>\n",
       "      <th>Date End</th>\n",
       "      <th>Date Start</th>\n",
       "      <th>Date Abr</th>\n",
       "    </tr>\n",
       "  </thead>\n",
       "  <tbody>\n",
       "    <tr>\n",
       "      <th>0</th>\n",
       "      <td>2019-06-29 07:20:00</td>\n",
       "      <td>124</td>\n",
       "      <td>1</td>\n",
       "      <td>Utilities</td>\n",
       "      <td>124</td>\n",
       "      <td>2019-06-29 07:22:04</td>\n",
       "      <td>2019-06-29 07:20:00</td>\n",
       "      <td>2019-06-29</td>\n",
       "    </tr>\n",
       "    <tr>\n",
       "      <th>1</th>\n",
       "      <td>2019-06-29 07:20:00</td>\n",
       "      <td>58</td>\n",
       "      <td>1</td>\n",
       "      <td>Uncategorized</td>\n",
       "      <td>182</td>\n",
       "      <td>2019-06-29 07:23:02</td>\n",
       "      <td>2019-06-29 07:22:04</td>\n",
       "      <td>2019-06-29</td>\n",
       "    </tr>\n",
       "    <tr>\n",
       "      <th>2</th>\n",
       "      <td>2019-06-29 07:20:00</td>\n",
       "      <td>37</td>\n",
       "      <td>1</td>\n",
       "      <td>Software Development</td>\n",
       "      <td>219</td>\n",
       "      <td>2019-06-29 07:23:39</td>\n",
       "      <td>2019-06-29 07:23:02</td>\n",
       "      <td>2019-06-29</td>\n",
       "    </tr>\n",
       "    <tr>\n",
       "      <th>3</th>\n",
       "      <td>2019-06-29 07:25:00</td>\n",
       "      <td>295</td>\n",
       "      <td>1</td>\n",
       "      <td>Software Development</td>\n",
       "      <td>295</td>\n",
       "      <td>2019-06-29 07:29:55</td>\n",
       "      <td>2019-06-29 07:25:00</td>\n",
       "      <td>2019-06-29</td>\n",
       "    </tr>\n",
       "    <tr>\n",
       "      <th>4</th>\n",
       "      <td>2019-06-29 07:25:00</td>\n",
       "      <td>5</td>\n",
       "      <td>1</td>\n",
       "      <td>Utilities</td>\n",
       "      <td>300</td>\n",
       "      <td>2019-06-29 07:30:00</td>\n",
       "      <td>2019-06-29 07:29:55</td>\n",
       "      <td>2019-06-29</td>\n",
       "    </tr>\n",
       "  </tbody>\n",
       "</table>\n",
       "</div>"
      ],
      "text/plain": [
       "                 Date  Seconds  NumberPeople              Overview  \\\n",
       "0 2019-06-29 07:20:00      124             1             Utilities   \n",
       "1 2019-06-29 07:20:00       58             1         Uncategorized   \n",
       "2 2019-06-29 07:20:00       37             1  Software Development   \n",
       "3 2019-06-29 07:25:00      295             1  Software Development   \n",
       "4 2019-06-29 07:25:00        5             1             Utilities   \n",
       "\n",
       "   Seconds Sum Per 5Min            Date End          Date Start    Date Abr  \n",
       "0                   124 2019-06-29 07:22:04 2019-06-29 07:20:00  2019-06-29  \n",
       "1                   182 2019-06-29 07:23:02 2019-06-29 07:22:04  2019-06-29  \n",
       "2                   219 2019-06-29 07:23:39 2019-06-29 07:23:02  2019-06-29  \n",
       "3                   295 2019-06-29 07:29:55 2019-06-29 07:25:00  2019-06-29  \n",
       "4                   300 2019-06-29 07:30:00 2019-06-29 07:29:55  2019-06-29  "
      ]
     },
     "execution_count": 85,
     "metadata": {},
     "output_type": "execute_result"
    }
   ],
   "source": [
    "data.head()"
   ]
  },
  {
   "cell_type": "code",
   "execution_count": 96,
   "metadata": {},
   "outputs": [],
   "source": [
    "# Choose wich columns to aggregate over\n",
    "values_column_name = 'Seconds'\n",
    "\n",
    "# List of all dates, ordered\n",
    "date_list = list(data['Date Abr'].unique())\n",
    "date_list.sort()\n",
    "\n",
    "objects = date_list\n",
    "pos = np.arange(len(date_list))\n",
    "\n",
    "# Select the categories to focus on\n",
    "category_list_alt = specified_category_entries\n",
    "\n",
    "d2_alt = data[data[category_column].isin(category_list_alt)].groupby([category_column, 'Date Abr'])[values_column_name].sum().reset_index()\n",
    "d2_alt['hours'] = d2_alt[values_column_name]/(60*60)\n",
    "\n",
    "# Select the colors that match the cat_color pairings\n",
    "cat_color_pairs_alt = {item: color_pairs.get(item) for item in category_list_alt}\n",
    "colors_alt = list(cat_color_pairs_alt.values())\n",
    "\n",
    "\n",
    "# STACKED BAR PLOT: Pivot Table\n",
    "# Create a pivot table in order to create a stacked bar chart\n",
    "pivot_d2 = d2_alt.pivot(index='Date Abr', columns=category_column, values='hours')\n"
   ]
  },
  {
   "cell_type": "code",
   "execution_count": 97,
   "metadata": {},
   "outputs": [
    {
     "data": {
      "text/html": [
       "<div>\n",
       "<style scoped>\n",
       "    .dataframe tbody tr th:only-of-type {\n",
       "        vertical-align: middle;\n",
       "    }\n",
       "\n",
       "    .dataframe tbody tr th {\n",
       "        vertical-align: top;\n",
       "    }\n",
       "\n",
       "    .dataframe thead th {\n",
       "        text-align: right;\n",
       "    }\n",
       "</style>\n",
       "<table border=\"1\" class=\"dataframe\">\n",
       "  <thead>\n",
       "    <tr style=\"text-align: right;\">\n",
       "      <th></th>\n",
       "      <th>Overview</th>\n",
       "      <th>Date Abr</th>\n",
       "      <th>Seconds</th>\n",
       "      <th>hours</th>\n",
       "    </tr>\n",
       "  </thead>\n",
       "  <tbody>\n",
       "    <tr>\n",
       "      <th>0</th>\n",
       "      <td>Entertainment</td>\n",
       "      <td>2019-06-29</td>\n",
       "      <td>61</td>\n",
       "      <td>0.016944</td>\n",
       "    </tr>\n",
       "    <tr>\n",
       "      <th>1</th>\n",
       "      <td>Entertainment</td>\n",
       "      <td>2019-06-30</td>\n",
       "      <td>2072</td>\n",
       "      <td>0.575556</td>\n",
       "    </tr>\n",
       "    <tr>\n",
       "      <th>2</th>\n",
       "      <td>Entertainment</td>\n",
       "      <td>2019-07-01</td>\n",
       "      <td>494</td>\n",
       "      <td>0.137222</td>\n",
       "    </tr>\n",
       "    <tr>\n",
       "      <th>3</th>\n",
       "      <td>Entertainment</td>\n",
       "      <td>2019-07-02</td>\n",
       "      <td>938</td>\n",
       "      <td>0.260556</td>\n",
       "    </tr>\n",
       "    <tr>\n",
       "      <th>4</th>\n",
       "      <td>Entertainment</td>\n",
       "      <td>2019-07-03</td>\n",
       "      <td>6366</td>\n",
       "      <td>1.768333</td>\n",
       "    </tr>\n",
       "  </tbody>\n",
       "</table>\n",
       "</div>"
      ],
      "text/plain": [
       "        Overview    Date Abr  Seconds     hours\n",
       "0  Entertainment  2019-06-29       61  0.016944\n",
       "1  Entertainment  2019-06-30     2072  0.575556\n",
       "2  Entertainment  2019-07-01      494  0.137222\n",
       "3  Entertainment  2019-07-02      938  0.260556\n",
       "4  Entertainment  2019-07-03     6366  1.768333"
      ]
     },
     "execution_count": 97,
     "metadata": {},
     "output_type": "execute_result"
    }
   ],
   "source": [
    "d2_alt.head()"
   ]
  },
  {
   "cell_type": "code",
   "execution_count": 99,
   "metadata": {},
   "outputs": [
    {
     "data": {
      "image/png": "[encoded data removed]",
      "text/plain": [
       "<Figure size 720x432 with 1 Axes>"
      ]
     },
     "metadata": {},
     "output_type": "display_data"
    }
   ],
   "source": [
    "pivot_d2.plot.bar(stacked=True, \n",
    "                  color = colors_alt, \n",
    "                  figsize=(10,6),\n",
    "                  edgecolor = 'black', \n",
    "                  linewidth = 1)\n",
    "\n",
    "plt.xticks(pos, objects)\n",
    "plt.xticks(rotation=90)\n",
    "plt.legend(category_list_alt , bbox_to_anchor=(1.2,0.5), loc=\"center\")\n",
    "\n",
    "\n",
    "plt.ylabel('Hours')\n",
    "plt.xlabel('Week Start')\n",
    "plt.title('Total Time Spent Per ' + category_column)\n",
    "plt.show()\n"
   ]
  },
  {
   "cell_type": "code",
   "execution_count": null,
   "metadata": {},
   "outputs": [],
   "source": []
  }
 ],
 "metadata": {
  "kernelspec": {
   "display_name": "Python 3",
   "language": "python",
   "name": "python3"
  },
  "language_info": {
   "codemirror_mode": {
    "name": "ipython",
    "version": 3
   },
   "file_extension": ".py",
   "mimetype": "text/x-python",
   "name": "python",
   "nbconvert_exporter": "python",
   "pygments_lexer": "ipython3",
   "version": "3.6.8"
  }
 },
 "nbformat": 4,
 "nbformat_minor": 2
}
